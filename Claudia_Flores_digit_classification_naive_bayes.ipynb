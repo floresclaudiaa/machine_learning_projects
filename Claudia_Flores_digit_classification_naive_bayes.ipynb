{
  "nbformat": 4,
  "nbformat_minor": 0,
  "metadata": {
    "kernelspec": {
      "display_name": "Python 3",
      "language": "python",
      "name": "python3"
    },
    "language_info": {
      "codemirror_mode": {
        "name": "ipython",
        "version": 3
      },
      "file_extension": ".py",
      "mimetype": "text/x-python",
      "name": "python",
      "nbconvert_exporter": "python",
      "pygments_lexer": "ipython3",
      "version": "3.7.4"
    },
    "toc": {
      "base_numbering": 1,
      "nav_menu": {},
      "number_sections": false,
      "sideBar": true,
      "skip_h1_title": true,
      "title_cell": "Table of Contents",
      "title_sidebar": "Contents",
      "toc_cell": false,
      "toc_position": {},
      "toc_section_display": true,
      "toc_window_display": false
    },
    "colab": {
      "provenance": []
    }
  },
  "cells": [
    {
      "cell_type": "markdown",
      "metadata": {
        "id": "iNALzZOKTzOS"
      },
      "source": [
        "# Project 2: Digit Classification Naive Bayes\n",
        "\n",
        "**Solution**"
      ]
    },
    {
      "cell_type": "markdown",
      "metadata": {
        "id": "EBRkdIUUTzOV"
      },
      "source": [
        "# Intro\n",
        "---\n",
        "In this project, you'll continue working on your own image recognition system for classifying digits. Read through the code and the instructions carefully and add your own code where indicated. Each problem can be addressed succinctly with the included packages -- please don't add any more.\n",
        "As always, you're welcome to work on the project in groups and discuss ideas over Slack, but <b> please prepare your own write-up (with your own code). </b>\n",
        "\n",
        "\n",
        "## Requirements:\n",
        "---\n",
        "1. Comment your code.\n",
        "1. All graphs should have titles, label for each axis, and if needed a legend. It should be understandable on its own.\n",
        "1. All code must run on colab.research.google.com\n",
        "1. You should not import any additional libraries.\n",
        "1. Try and minimize the use of the global namespace (meaning keep things in functions).\n",
        "\n",
        "## Additional Reading and notes\n",
        "---\n",
        "If you're interested, check out these links related to digit recognition:\n",
        "\n",
        "* Yann Lecun's MNIST benchmarks: http://yann.lecun.com/exdb/mnist/\n",
        "* Stanford Streetview research and data: http://ufldl.stanford.edu/housenumbers/\n",
        "\n",
        "Finally, if you'd like to get started with Tensorflow, you can read through this tutorial: https://www.tensorflow.org/tutorials/keras/basic_classification. It uses a dataset called \"fashion_mnist\", which is identical in structure to the original digit mnist, but uses images of clothing rather than images of digits. The number of training examples and number of labels is the same. In fact, you can simply replace the code that loads \"fashion_mnist\" with \"mnist\" and everything should work fine."
      ]
    },
    {
      "cell_type": "code",
      "metadata": {
        "id": "r8u7GmsDTzOX"
      },
      "source": [
        "# This tells matplotlib not to try opening a new window for each plot.\n",
        "%matplotlib inline\n",
        "\n",
        "# Import a bunch of libraries.\n",
        "import time\n",
        "import numpy as np\n",
        "import pandas as pd\n",
        "import matplotlib.pyplot as plt\n",
        "from matplotlib.ticker import MultipleLocator\n",
        "from sklearn.pipeline import Pipeline\n",
        "from sklearn.datasets import fetch_openml\n",
        "from sklearn.neighbors import KNeighborsClassifier\n",
        "from sklearn.metrics import confusion_matrix\n",
        "from sklearn.linear_model import LinearRegression\n",
        "from sklearn.naive_bayes import BernoulliNB\n",
        "from sklearn.naive_bayes import MultinomialNB\n",
        "from sklearn.naive_bayes import GaussianNB\n",
        "from sklearn.model_selection import GridSearchCV\n",
        "from sklearn.metrics import classification_report\n",
        "\n",
        "# Set the randomizer seed so results are the same each time.\n",
        "np.random.seed(0)"
      ],
      "execution_count": 2,
      "outputs": []
    },
    {
      "cell_type": "code",
      "metadata": {
        "id": "bWOWoq_dTzOY",
        "colab": {
          "base_uri": "https://localhost:8080/",
          "height": 35
        },
        "outputId": "5de79afb-d270-45c0-e559-655d5c4550fa"
      },
      "source": [
        "import sklearn\n",
        "sklearn.__version__"
      ],
      "execution_count": 3,
      "outputs": [
        {
          "output_type": "execute_result",
          "data": {
            "text/plain": [
              "'1.2.2'"
            ],
            "application/vnd.google.colaboratory.intrinsic+json": {
              "type": "string"
            }
          },
          "metadata": {},
          "execution_count": 3
        }
      ]
    },
    {
      "cell_type": "markdown",
      "metadata": {
        "id": "J1-CAjA9TzOa"
      },
      "source": [
        "Load the data. Notice that the data gets partitioned into training, development, and test sets. Also, a small subset of the training data called mini_train_data and mini_train_labels gets defined, which you should use in all the experiments below, unless otherwise noted."
      ]
    },
    {
      "cell_type": "code",
      "metadata": {
        "id": "f9kPmCW0TzOb",
        "colab": {
          "base_uri": "https://localhost:8080/"
        },
        "outputId": "8692edc8-f581-4d22-d1b6-b45568ef40c1"
      },
      "source": [
        "# Load the digit data from https://www.openml.org/d/554 or from default local location '~/scikit_learn_data/...'\n",
        "X, Y = fetch_openml(name='mnist_784', return_X_y=True, cache=False)\n",
        "\n",
        "# Rescale grayscale values to [0,1].\n",
        "X = X / 255.0\n",
        "\n",
        "# Shuffle the input: create a random permutation of the integers between 0 and the number of data points and apply this\n",
        "# permutation to X and Y.\n",
        "# NOTE: Each time you run this cell, you'll re-shuffle the data, resulting in a different ordering.\n",
        "shuffle = np.random.permutation(np.arange(X.shape[0]))\n",
        "X, Y = X.iloc[shuffle], Y.iloc[shuffle]\n",
        "\n",
        "print('data shape: ', X.shape)\n",
        "print('label shape:', Y.shape)\n",
        "\n",
        "# Set some variables to hold test, dev, and training data.\n",
        "test_data, test_labels = X[61000:], Y[61000:]\n",
        "dev_data, dev_labels = X[60000:61000], Y[60000:61000]\n",
        "train_data, train_labels = X[:60000], Y[:60000]\n",
        "mini_train_data, mini_train_labels = X[:1000], Y[:1000]"
      ],
      "execution_count": 4,
      "outputs": [
        {
          "output_type": "stream",
          "name": "stderr",
          "text": [
            "/usr/local/lib/python3.10/dist-packages/sklearn/datasets/_openml.py:968: FutureWarning: The default value of `parser` will change from `'liac-arff'` to `'auto'` in 1.4. You can set `parser='auto'` to silence this warning. Therefore, an `ImportError` will be raised from 1.4 if the dataset is dense and pandas is not installed. Note that the pandas parser may return different data types. See the Notes Section in fetch_openml's API doc for details.\n",
            "  warn(\n"
          ]
        },
        {
          "output_type": "stream",
          "name": "stdout",
          "text": [
            "data shape:  (70000, 784)\n",
            "label shape: (70000,)\n"
          ]
        }
      ]
    },
    {
      "cell_type": "markdown",
      "metadata": {
        "id": "gr40-NstTzOl"
      },
      "source": [
        "### Question 1: Applying a smoothing using numpy.\n",
        "---\n",
        "\n",
        "A common image processing technique is to smooth an image by **blurring**. The idea is that the value of a particular pixel is estimated as the weighted combination of the original value and the values around it. Typically, the blurring is Gaussian, i.e., the weight of a pixel's influence is determined by a Gaussian function over the distance to the relevant pixel.\n",
        "\n",
        "1. Implement a simplified Gaussian blur filter by just using the 8 neighboring pixels like this: the smoothed value of a pixel is a weighted combination of the original value and the 8 neighboring values.\n",
        "1. Choose some weights as a starting point. Produce and evaluate four 1-Nearest Neighbor models by applying your blur filter in these ways:\n",
        "  1. Do not use the filter\n",
        "  1. Filter the training data but not the dev data\n",
        "  1. Filter the dev data but not the training data\n",
        "  1. Filter both training data and dev data\n",
        "1. Show the accuracies of the four models evaluated as described. What do you see? Can you explain why this is?\n",
        "1. Experiment with weights that makes one model's accuracy at least 0.9.\n",
        "\n",
        "Notes:\n",
        "* Train on the (filtered) mini train set.\n",
        "* Evaluate performance on the (filtered) dev set.\n",
        "* A good trick to simplify your code is to use numpy's pad function to add 0s around your original array so you don't have to deal with \"edge cases\".\n",
        "* In addition, you can use numpy to multiply and sum slices of two arrays.\n",
        "* [This notebook](https://colab.research.google.com/drive/1eJXTQLtREXQjQIsLOA9uCrBl6B049-pO) might help shows some example numpy code.\n",
        "* In general, [numpy operations will be much faster than for loops](https://colab.research.google.com/drive/1KJI4JtuIqVdyZHTTe_mAlKYA5XdLFp3_).\n",
        "* There are other Guassian blur filters available, for example in `scipy.ndimage.filters`. You are welcome to experiment with those, but in this question, please implement your own."
      ]
    },
    {
      "cell_type": "code",
      "metadata": {
        "id": "ebHGUU0eTzOl",
        "colab": {
          "base_uri": "https://localhost:8080/"
        },
        "outputId": "1aeda749-b37c-4838-f0f9-113a46d21102"
      },
      "source": [
        "def blur(data):\n",
        "  blurred_data = []\n",
        "  w = 0.5  # this weighting results in best dev accuracy for filter train & dev\n",
        "  for i in range(data.shape[0]):\n",
        "      grid = data[i].reshape(28, 28)\n",
        "      f = np.zeros((28, 28))\n",
        "      for i in range(28):\n",
        "          for j in range(28):\n",
        "              f[i,j] = grid[i,j] + np.sum(grid[i-1:i+2, j-1:j+2]) / w\n",
        "      blurred_data.append(f.flatten())\n",
        "  return blurred_data\n",
        "\n",
        "def Q1():\n",
        "\n",
        "    ### STUDENT START ###\n",
        "\n",
        "    # Define the blur function\n",
        "    def blur(data):\n",
        "        blurred_data = []\n",
        "        w = 0.5  # this weighting results in best dev accuracy for filter train & dev\n",
        "        for idx in range(data.shape[0]):\n",
        "            grid = data.iloc[idx].values.reshape(28, 28)\n",
        "            padded_grid = np.pad(grid, pad_width=1, mode='constant', constant_values=0)\n",
        "            f = np.zeros((28, 28))\n",
        "            for i in range(1, 29):\n",
        "                for j in range(1, 29):\n",
        "                    f[i-1, j-1] = np.sum(padded_grid[i-1:i+2, j-1:j+2]) * w\n",
        "            blurred_data.append(f.flatten())\n",
        "        return np.array(blurred_data)\n",
        "\n",
        "    # Train and evaluate the 1-NN model\n",
        "    def evaluate_knn(train_data, train_labels, dev_data, dev_labels):\n",
        "        knn = KNeighborsClassifier(n_neighbors=1)\n",
        "        knn.fit(train_data, train_labels)\n",
        "        predictions = knn.predict(dev_data)\n",
        "        correct_predictions = (predictions == dev_labels).sum()\n",
        "        accuracy = correct_predictions / len(dev_labels)\n",
        "        return accuracy\n",
        "\n",
        "    # Apply the filter in four different ways\n",
        "    # 1. Do not use the filter\n",
        "    accuracy_no_filter = evaluate_knn(mini_train_data, mini_train_labels, dev_data, dev_labels)\n",
        "\n",
        "    # 2. Filter the training data but not the dev data\n",
        "    blurred_mini_train_data = blur(mini_train_data)\n",
        "    accuracy_filter_train = evaluate_knn(blurred_mini_train_data, mini_train_labels, dev_data, dev_labels)\n",
        "\n",
        "    # 3. Filter the dev data but not the training data\n",
        "    blurred_dev_data = blur(dev_data)\n",
        "    accuracy_filter_dev = evaluate_knn(mini_train_data, mini_train_labels, blurred_dev_data, dev_labels)\n",
        "\n",
        "    # 4. Filter both training data and dev data\n",
        "    blurred_mini_train_data = blur(mini_train_data)\n",
        "    blurred_dev_data = blur(dev_data)\n",
        "    accuracy_filter_both = evaluate_knn(blurred_mini_train_data, mini_train_labels, blurred_dev_data, dev_labels)\n",
        "\n",
        "    # Display the accuracies\n",
        "    print(f\"Accuracy without filter: {accuracy_no_filter}\")\n",
        "    print(f\"Accuracy with filtered training data: {accuracy_filter_train}\")\n",
        "    print(f\"Accuracy with filtered dev data: {accuracy_filter_dev}\")\n",
        "    print(f\"Accuracy with filtered training and dev data: {accuracy_filter_both}\")\n",
        "\n",
        "    ### STUDENT END ###\n",
        "\n",
        "Q1()"
      ],
      "execution_count": 5,
      "outputs": [
        {
          "output_type": "stream",
          "name": "stderr",
          "text": [
            "/usr/local/lib/python3.10/dist-packages/sklearn/base.py:432: UserWarning: X has feature names, but KNeighborsClassifier was fitted without feature names\n",
            "  warnings.warn(\n",
            "/usr/local/lib/python3.10/dist-packages/sklearn/base.py:439: UserWarning: X does not have valid feature names, but KNeighborsClassifier was fitted with feature names\n",
            "  warnings.warn(\n"
          ]
        },
        {
          "output_type": "stream",
          "name": "stdout",
          "text": [
            "Accuracy without filter: 0.884\n",
            "Accuracy with filtered training data: 0.268\n",
            "Accuracy with filtered dev data: 0.75\n",
            "Accuracy with filtered training and dev data: 0.905\n"
          ]
        }
      ]
    },
    {
      "cell_type": "markdown",
      "metadata": {
        "id": "aN3HZPGuTzOn"
      },
      "source": [
        "### Question 2: Modeling your data and experimenting with different Naive Bayes models.\n",
        "---\n",
        "\n",
        "1. Produce two Naive Bayes models and evaluate their performances.  Recall that Naive Bayes estimates P(feature|label), where each label is a categorical, not a real number.\n",
        "  1. For the first model, map pixel values to either 0 or 1, representing white or black - you should pre-process the data or use `BernoulliNB`'s `binarize` parameter to set the white/black separation threshold to 0.1.  Use `BernoulliNB` to produce the model.\n",
        "  1. For the second model, map pixel values to either 0, 1, or 2, representing white, gray, or black - you should pre-process the data, seting the white/gray/black separation thresholds to 0.1 and 0.9.  Here you'll likely need to implement a `trianarize` helper function. Since we are going beyond the binary representation of our features, you should use `MultinomialNB` to produce the model.\n",
        "1. Show the Bernoulli model accuracy and the Multinomial model accuracy.\n",
        "1. Does the multinomial version improve the results? Why or why not?\n",
        "\n",
        "Notes:\n",
        "* Train on the mini train set.\n",
        "* Evaluate performance on the dev set.\n",
        "\n"
      ]
    },
    {
      "cell_type": "code",
      "metadata": {
        "id": "_1edM3ehTzOn",
        "colab": {
          "base_uri": "https://localhost:8080/"
        },
        "outputId": "d6fd0faf-776c-488f-e999-9a4fbebeaeb0"
      },
      "source": [
        "# Solution with binarization by explicit binarize function\n",
        "\n",
        "def Q2():\n",
        "\n",
        "    ### STUDENT START ###\n",
        "\n",
        "    # Function to binarize the data\n",
        "    def binarize(data, threshold):\n",
        "        return (data > threshold).astype(int)\n",
        "\n",
        "    # Function to trianarize the data\n",
        "    def trianarize(data, low_threshold, high_threshold):\n",
        "        result = np.zeros_like(data)\n",
        "        result[data > low_threshold] = 1\n",
        "        result[data > high_threshold] = 2\n",
        "        return result\n",
        "\n",
        "    # Binarize the data with a threshold of 0.1\n",
        "    binarized_mini_train_data = binarize(mini_train_data, 0.1)\n",
        "    binarized_dev_data = binarize(dev_data, 0.1)\n",
        "\n",
        "    # Train and evaluate the Bernoulli Naive Bayes model\n",
        "    bernoulli_nb = BernoulliNB(binarize=0.0)  # binarize=0.0 because we already binarized the data\n",
        "    bernoulli_nb.fit(binarized_mini_train_data, mini_train_labels)\n",
        "    bernoulli_predictions = bernoulli_nb.predict(binarized_dev_data)\n",
        "    bernoulli_accuracy = (bernoulli_predictions == dev_labels).mean()\n",
        "    print(f\"BernoulliNB accuracy: {bernoulli_accuracy}\")\n",
        "\n",
        "    # Trianarize the data with thresholds of 0.1 and 0.9\n",
        "    trianarized_mini_train_data = trianarize(mini_train_data, 0.1, 0.9)\n",
        "    trianarized_dev_data = trianarize(dev_data, 0.1, 0.9)\n",
        "\n",
        "    # Train and evaluate the Multinomial Naive Bayes model\n",
        "    multinomial_nb = MultinomialNB()\n",
        "    multinomial_nb.fit(trianarized_mini_train_data, mini_train_labels)\n",
        "    multinomial_predictions = multinomial_nb.predict(trianarized_dev_data)\n",
        "    multinomial_accuracy = (multinomial_predictions == dev_labels).mean()\n",
        "    print(f\"MultinomialNB accuracy: {multinomial_accuracy}\")\n",
        "\n",
        "    # Comparison\n",
        "    if multinomial_accuracy > bernoulli_accuracy:\n",
        "        print(\"The Multinomial Naive Bayes model performs better.\")\n",
        "    else:\n",
        "        print(\"The Bernoulli Naive Bayes model performs better or they perform equally as well.\")\n",
        "\n",
        "    ### STUDENT END ###\n",
        "\n",
        "Q2()"
      ],
      "execution_count": 6,
      "outputs": [
        {
          "output_type": "stream",
          "name": "stdout",
          "text": [
            "BernoulliNB accuracy: 0.814\n",
            "MultinomialNB accuracy: 0.807\n",
            "The Bernoulli Naive Bayes model performs better or they are equal.\n"
          ]
        }
      ]
    },
    {
      "cell_type": "markdown",
      "metadata": {
        "id": "Bbbpzl5ETzOp"
      },
      "source": [
        "ANSWER:\n",
        "- BernoulliNB accuracy: 0.814\n",
        "- MultinomialNB accuracy: 0.807\n",
        "- The Bernoulli Naive Bayes model performs better or they perform equally as well. This is possibly because the added complexity of representing features in three states (white, gray, black) does not provide a significant advantage for this particular dataset and problem. As a result, the simpler binary feature representation used by BernoulliNB may be more effective."
      ]
    },
    {
      "cell_type": "markdown",
      "metadata": {
        "id": "ymzuQZwsTzOp"
      },
      "source": [
        "### Question 3: Applying the grid search technique.\n",
        "1. Search across several values of the LaPlace smoothing parameter (alpha) to find its effect on a Bernoulli Naive Bayes model's performance.  Show the accuracy at each alpha value.\n",
        "1. What is the best value for alpha? What is the accuracy when alpha is near 0? Is this what you'd expect?\n",
        "\n",
        "Notes:\n",
        "* Set binarization threshold to 0.\n",
        "* Train on the mini train set.\n",
        "* Evaluate performance by 5-fold cross-validation.\n",
        "* Use `GridSearchCV(..., ..., cv=..., scoring='accuracy', iid=False)` to vary alpha and evaluate performance by cross-validation.\n",
        "* Cross-validation is based on partitions of the training data, so results will be a bit different than if you had used the dev set to evaluate performance.\n",
        "\n"
      ]
    },
    {
      "cell_type": "code",
      "metadata": {
        "id": "1qc1fG0OTzOq",
        "colab": {
          "base_uri": "https://localhost:8080/"
        },
        "outputId": "8b2a2a35-c203-48d3-c55f-134cbbda387f"
      },
      "source": [
        "def Q3(alphas):\n",
        "\n",
        "    ### STUDENT START ###\n",
        "\n",
        "    # Define the BernoulliNB model with binarization threshold set to 0\n",
        "    bernoulli_nb = BernoulliNB(binarize=0.0)\n",
        "\n",
        "    # Perform Grid Search with cross-validation\n",
        "    grid_search = GridSearchCV(bernoulli_nb, param_grid=alphas, cv=5, scoring='accuracy')\n",
        "    grid_search.fit(mini_train_data, mini_train_labels)\n",
        "\n",
        "    # Display the results\n",
        "    for alpha, mean_score in zip(grid_search.cv_results_['param_alpha'], grid_search.cv_results_['mean_test_score']):\n",
        "        print(f\"Alpha: {alpha}, Accuracy: {mean_score}\")\n",
        "\n",
        "    # Best alpha and corresponding accuracy\n",
        "    best_alpha = grid_search.best_params_['alpha']\n",
        "    best_accuracy = grid_search.best_score_\n",
        "    print(f\"Best alpha: {best_alpha}, Best accuracy: {best_accuracy}\")\n",
        "\n",
        "    ### STUDENT END ###\n",
        "\n",
        "alphas = {'alpha': [1.0e-10, 0.0001, 0.001, 0.01, 0.1, 0.5, 1.0, 2.0, 10.0]}\n",
        "Q3(alphas)"
      ],
      "execution_count": 7,
      "outputs": [
        {
          "output_type": "stream",
          "name": "stdout",
          "text": [
            "Alpha: 1e-10, Accuracy: 0.8139999999999998\n",
            "Alpha: 0.0001, Accuracy: 0.819\n",
            "Alpha: 0.001, Accuracy: 0.825\n",
            "Alpha: 0.01, Accuracy: 0.8219999999999998\n",
            "Alpha: 0.1, Accuracy: 0.818\n",
            "Alpha: 0.5, Accuracy: 0.8130000000000001\n",
            "Alpha: 1.0, Accuracy: 0.8089999999999999\n",
            "Alpha: 2.0, Accuracy: 0.8049999999999999\n",
            "Alpha: 10.0, Accuracy: 0.783\n",
            "Best alpha: 0.001, Best accuracy: 0.825\n"
          ]
        }
      ]
    },
    {
      "cell_type": "markdown",
      "metadata": {
        "id": "6g4fnGFPTzOq"
      },
      "source": [
        "ANSWER:\n",
        "\n",
        "- The accuracy decreases slightly when alpha is set to an extremely small value (1.0e-10), and it is slightly lower than the best accuracy obtained at alpha = 0.001.\n",
        "- This is expected because very small alpha values (near 0) result in less smoothing, which can lead to overfitting on the training data. Small alpha values do not adequately handle zero probabilities in the likelihood estimation, which is why the accuracy is not at its peak at these values."
      ]
    },
    {
      "cell_type": "markdown",
      "metadata": {
        "id": "aQ6MaDU6TzOr"
      },
      "source": [
        "### Question 4: Experimenting with Gaussian Naive Bayes\n",
        "---\n",
        "1. Produce a model using Guassian Naive Bayes, which is intended for real-valued features, and evaluate performance. You will notice that it does not work so well.\n",
        "1. Diagnose and explain the problem.\n",
        "1. Apply a simple fix so that the model accuracy is around the same as for a Bernoulli Naive Bayes model.\n",
        "1. Show the model accuracy before your fix and the model accuracy after your fix.  \n",
        "1. Explain your solution.\n",
        "\n",
        "Notes:\n",
        "* Train on the mini train set.\n",
        "* Evaluate performance on the dev set.\n",
        "* Take a look at var_smoothing argument for GaussianNB.\n",
        "* Feel free to  examine theta and sigma to better understand what's happening. In general though, **it is not a good idea to mess with internal variables of the model**. These are stored in the model's `theta_` and `sigma_` attributes."
      ]
    },
    {
      "cell_type": "code",
      "metadata": {
        "id": "XqW86YbKTzOr",
        "colab": {
          "base_uri": "https://localhost:8080/"
        },
        "outputId": "ec60ff68-9708-498e-904a-1f9f3c901896"
      },
      "source": [
        "def Q4():\n",
        "\n",
        "    ### STUDENT START ###\n",
        "\n",
        "    # Train and evaluate the GaussianNB model\n",
        "    def evaluate_gnb(var_smoothing):\n",
        "        # GaussianNB model with var_smoothing parameter\n",
        "        gnb = GaussianNB(var_smoothing=var_smoothing)\n",
        "        gnb.fit(mini_train_data, mini_train_labels)\n",
        "        predictions = gnb.predict(dev_data)\n",
        "\n",
        "        # Calculate accuracy\n",
        "        correct_count = np.sum(predictions == dev_labels)\n",
        "        total_count = len(dev_labels)\n",
        "        accuracy = correct_count / total_count\n",
        "\n",
        "        return accuracy\n",
        "\n",
        "    # Evaluate without any fix\n",
        "    accuracy_before_fix = evaluate_gnb(var_smoothing=1e-9)\n",
        "    print(f\"Accuracy before fix: {accuracy_before_fix}\")\n",
        "\n",
        "    # Evaluate with var_smoothing fix\n",
        "    accuracy_after_fix = evaluate_gnb(var_smoothing=1e-2)\n",
        "    print(f\"Accuracy after fix: {accuracy_after_fix}\")\n",
        "\n",
        "    ### STUDENT END ###\n",
        "\n",
        "Q4()"
      ],
      "execution_count": 8,
      "outputs": [
        {
          "output_type": "stream",
          "name": "stdout",
          "text": [
            "Accuracy before fix: 0.593\n",
            "Accuracy after fix: 0.797\n"
          ]
        }
      ]
    },
    {
      "cell_type": "markdown",
      "metadata": {
        "id": "wE5eQXsPTzOs"
      },
      "source": [
        "ANSWER:\n",
        "- The code above aims to ensure that the Gaussian Naive Bayes model performs comparably to the Bernoulli Naive Bayes model by addressing the variance issue through the var_smoothing parameter."
      ]
    },
    {
      "cell_type": "markdown",
      "metadata": {
        "id": "AXx4SGNeTzOs"
      },
      "source": [
        "### Question 5: Naive Bayes as a generative model\n",
        "---\n",
        "Because Naive Bayes produces a generative model, you can use it to generate digit images.\n",
        "\n",
        "1. Produce a Bernoulli Naive Bayes model and then use it to generate a 10x10 grid with 10 example images of each digit. Each pixel output will be either 0 or 1: randomly generating a number and then comparing it to the estimated probability of the pixel being either 0 or 1.  Show the grid.\n",
        "1. How do the generated digit images compare to the training digit images?\n",
        "\n",
        "Notes:\n",
        "* You can use np.random.rand() to generate random numbers from a uniform distribution.\n",
        "* The estimated probability of each pixel being 0 or 1 is stored in the model's `feature_log_prob_` attribute. You can use `np.exp()` to convert a log probability back to a probability.\n",
        "\n"
      ]
    },
    {
      "cell_type": "code",
      "metadata": {
        "scrolled": false,
        "id": "WDCNbv7ETzOt",
        "colab": {
          "base_uri": "https://localhost:8080/",
          "height": 1000
        },
        "outputId": "a20d6f7f-242b-4cbe-b7f7-1acff60bb88a"
      },
      "source": [
        "def Q5(num_examples):\n",
        "\n",
        "    ### STUDENT START ###\n",
        "\n",
        "    # Train the BernoulliNB model\n",
        "    bernoulli_nb = BernoulliNB()\n",
        "    bernoulli_nb.fit(mini_train_data, mini_train_labels)\n",
        "\n",
        "    # Function to generate digit images\n",
        "    def generate_digit_images(model, digit, num_examples):\n",
        "        # Get the log probabilities for the digit\n",
        "        digit_index = int(digit)\n",
        "        log_probabilities = model.feature_log_prob_[digit_index]\n",
        "        probabilities = np.exp(log_probabilities)\n",
        "\n",
        "        # Generate num_examples images\n",
        "        generated_images = []\n",
        "        for _ in range(num_examples):\n",
        "            random_image = np.random.rand(784) > probabilities\n",
        "            generated_images.append(random_image.reshape(28, 28))\n",
        "        return generated_images\n",
        "\n",
        "    # Generate 10 images for each digit (0-9)\n",
        "    generated_digits = {digit: generate_digit_images(bernoulli_nb, digit, num_examples) for digit in range(10)}\n",
        "\n",
        "    # Plot the 10x10 grid\n",
        "    fig, axes = plt.subplots(10, num_examples, figsize=(10, 10))\n",
        "    for i in range(10):\n",
        "        for j in range(num_examples):\n",
        "            axes[i, j].imshow(generated_digits[i][j], cmap='gray')\n",
        "            axes[i, j].axis('off')\n",
        "    plt.tight_layout()\n",
        "    plt.show()\n",
        "\n",
        "    ### STUDENT END ###\n",
        "\n",
        "Q5(10)"
      ],
      "execution_count": 9,
      "outputs": [
        {
          "output_type": "display_data",
          "data": {
            "text/plain": [
              "<Figure size 1000x1000 with 100 Axes>"
            ],
            "image/png": "[encoded data removed]"
          },
          "metadata": {}
        }
      ]
    },
    {
      "cell_type": "markdown",
      "metadata": {
        "id": "2ENXdzngTzOu"
      },
      "source": [
        "ANSWER:\n",
        "- The generated digit images appear more pixelated."
      ]
    },
    {
      "cell_type": "markdown",
      "metadata": {
        "id": "CRkUEi50TzOu"
      },
      "source": [
        "### Question 6: Model Calibration\n",
        "\n",
        "---\n",
        "Recall that:\n",
        " * a **strongly calibrated** classifier is rougly 90% accurate when it says it is 90% accurate. The model's estimated posterior probability of the predicted class is indeed 0.9.\n",
        " * A **weakly calibrated** classifier is more accurate when it \"says\" it is more accurate. The actual accuracy is higher when the model's estimated posterior probability is higher.\n",
        " * A **poorly calibrated** classifier has no positive correlation between the model's estimate posterior probability and the actual accuracy.\n",
        "\n",
        "1. Produce a Bernoulli Naive Bayes model.  \n",
        "1. Evaluate performance:\n",
        "  1. Partition the dev set into several buckets based on the estimated posterior probabilities of the predicted classes (predict_proba)\n",
        "    - Think of it as a bin in a histogram, where each bin groups a range of estimated posterior probabilities of the predicted classes (predict_proba).\n",
        "    - Then estimate the actual accuracy the classifier achieved for each bucket.\n",
        "    - So, for each prediction:\n",
        "       - Find the bucket whose range includes the estimated posterior probability,\n",
        "       - and update \"correct\" and \"total\" counters accordingly.\n",
        "       - Show the accuracy for each bucket.\n",
        "1. How would you characterize the calibration for this Bernoulli Naive Bayes model according to the definitions above?\n",
        "\n",
        "Notes:\n",
        "* Set LaPlace smoothing (alpha) to the optimal value (from part 8).\n",
        "* Set binarization threshold to 0.\n",
        "* Train on the mini train set.\n",
        "* Evaluate perfromance on the dev set.\n",
        "\n"
      ]
    },
    {
      "cell_type": "code",
      "metadata": {
        "id": "3Gz3NDY9TzOu",
        "colab": {
          "base_uri": "https://localhost:8080/"
        },
        "outputId": "921977e6-ec65-43a3-a33a-f4b867284028"
      },
      "source": [
        "def Q6(buckets, correct, total):\n",
        "\n",
        "  ### STUDENT START ###\n",
        "\n",
        "    # Train the BernoulliNB model with the optimal alpha value\n",
        "    alpha = 0.001\n",
        "    bernoulli_nb = BernoulliNB(alpha=alpha, binarize=0)\n",
        "    bernoulli_nb.fit(mini_train_data, mini_train_labels)\n",
        "\n",
        "    # Get the predicted probabilities and the predicted classes for the dev set\n",
        "    predicted_probabilities = bernoulli_nb.predict_proba(dev_data)\n",
        "    predicted_classes = bernoulli_nb.predict(dev_data)\n",
        "\n",
        "    # Convert labels to integers\n",
        "    dev_labels_int = dev_labels.astype(int)\n",
        "    predicted_classes_int = predicted_classes.astype(int)\n",
        "\n",
        "    # Partition the dev set into buckets based on the estimated posterior probabilities\n",
        "    for prob, true_label, predicted_label in zip(predicted_probabilities, dev_labels_int, predicted_classes_int):\n",
        "        # The predicted probability of the predicted class\n",
        "        predicted_prob = prob[predicted_label]\n",
        "\n",
        "        # Find the appropriate bucket\n",
        "        for i, bucket in enumerate(buckets):\n",
        "            if predicted_prob <= bucket:\n",
        "                if true_label == predicted_label:\n",
        "                    correct[i] += 1\n",
        "                total[i] += 1\n",
        "                break\n",
        "\n",
        "    # Calculate and display the accuracy for each bucket\n",
        "    for i, bucket in enumerate(buckets):\n",
        "        if total[i] > 0:\n",
        "            accuracy = correct[i] / total[i]\n",
        "        else:\n",
        "            accuracy = 0.0\n",
        "        print(f\"Bucket {bucket}: Accuracy = {accuracy}\")\n",
        "\n",
        "    ### STUDENT END ###\n",
        "\n",
        "buckets = [0.5, 0.9, 0.999, 0.99999, 0.9999999, 0.999999999, 0.99999999999, 0.9999999999999, 1.0]\n",
        "correct = [0 for i in buckets]\n",
        "total = [0 for i in buckets]\n",
        "\n",
        "Q6(buckets, correct, total)"
      ],
      "execution_count": 10,
      "outputs": [
        {
          "output_type": "stream",
          "name": "stdout",
          "text": [
            "Bucket 0.5: Accuracy = 0.0\n",
            "Bucket 0.9: Accuracy = 0.3548387096774194\n",
            "Bucket 0.999: Accuracy = 0.43283582089552236\n",
            "Bucket 0.99999: Accuracy = 0.4576271186440678\n",
            "Bucket 0.9999999: Accuracy = 0.6521739130434783\n",
            "Bucket 0.999999999: Accuracy = 0.7741935483870968\n",
            "Bucket 0.99999999999: Accuracy = 0.7878787878787878\n",
            "Bucket 0.9999999999999: Accuracy = 0.7906976744186046\n",
            "Bucket 1.0: Accuracy = 0.9377845220030349\n"
          ]
        }
      ]
    },
    {
      "cell_type": "markdown",
      "metadata": {
        "id": "7PYLz-1STzOu"
      },
      "source": [
        "ANSWER:\n",
        "- The observed trend shows that actual accuracy increases with higher predicted probabilities. This positive correlation indicates that the Bernoulli Naive Bayes model is weakly calibrated."
      ]
    },
    {
      "cell_type": "markdown",
      "metadata": {
        "id": "tIeZGen1TzOv"
      },
      "source": [
        "### Question 7 EXTRA CREDIT: Feature generation\n",
        "---\n",
        "1. Design new features to see if you can produce a Bernoulli Naive Bayes model with better performance.\n",
        "1. Show the accuracy of a model based on the original features and the accuracy of the model based on the new features.\n",
        "\n",
        "**Note that improving results is actually hard.**\n",
        "\n",
        "Here are a few ideas to get you started:\n",
        "- Try summing or averaging the pixel values in each row.\n",
        "- Try summing or averaging the pixel values in each column.\n",
        "- Try summing or averaging the pixel values in each square block. (pick various block sizes)\n",
        "- Try implementing [*maxpool*](https://computersciencewiki.org/index.php/Max-pooling_/_Pooling) features, taking a rolling maximum over sub-regions of a the image.\n",
        "- In any case, you can either transform the original data or add new \"features\" to it.\n",
        "\n",
        "Notes:\n",
        "* Train on the mini train set (enhanced to comprise the new features).\n",
        "* Evaulate performance on the dev set.\n",
        "* Ensure that your code is well commented."
      ]
    },
    {
      "cell_type": "code",
      "metadata": {
        "id": "6GtYu5ezTzOv",
        "colab": {
          "base_uri": "https://localhost:8080/",
          "height": 673
        },
        "outputId": "5ca77d94-7e32-462d-fe32-4bb02aab70b0"
      },
      "source": [
        "def Q7():\n",
        "\n",
        "  ### STUDENT START ###\n",
        "\n",
        "    # Define a function to generate new features\n",
        "    def generate_new_features(data):\n",
        "        new_data = []\n",
        "        for image in data:\n",
        "#            try:\n",
        "                # Convert non-numerical data to numpy arrays and reshape into a 28x28 grid\n",
        "                if isinstance(image, str):\n",
        "                    image = np.array(list(map(int, image.split(',')))).reshape(28, 28)\n",
        "                # Sum pixel values in each row\n",
        "                row_sums = np.sum(image, axis=1)\n",
        "                # Average pixel values in each column\n",
        "                col_averages = np.mean(image, axis=0)\n",
        "                # Sum pixel values in each square block (block size: 7x7)\n",
        "                block_sums = []\n",
        "                for i in range(0, 28, 7):\n",
        "                    for j in range(0, 28, 7):\n",
        "                        block_sum = np.sum(image[i:i+7, j:j+7])\n",
        "                        block_sums.append(block_sum)\n",
        "                # Maxpool features (rolling maximum over sub-regions of the image)\n",
        "                maxpool_features = []\n",
        "                for i in range(0, 28, 2):\n",
        "                    for j in range(0, 28, 2):\n",
        "                        maxpool_feature = np.max(image[i:i+2, j:j+2])\n",
        "                        maxpool_features.append(maxpool_feature)\n",
        "                # Combine all new features\n",
        "                new_features = np.concatenate([row_sums, col_averages, block_sums, maxpool_features])\n",
        "                new_data.append(new_features)\n",
        "#            except:\n",
        "#                # Handle reshape errors or other exceptions\n",
        "#                continue\n",
        "        return np.array(new_data)\n",
        "\n",
        "    # Generate new features for mini train data and dev data\n",
        "#    print(mini_train_data.values)\n",
        "    new_mini_train_data = generate_new_features(mini_train_data.values)\n",
        "    new_dev_data = generate_new_features(dev_data)\n",
        "\n",
        "    # Train the Bernoulli Naive Bayes model with original features\n",
        "    bernoulli_nb_original = BernoulliNB(alpha=0.1, binarize=0)\n",
        "    bernoulli_nb_original.fit(mini_train_data, mini_train_labels)\n",
        "    original_accuracy = bernoulli_nb_original.score(dev_data, dev_labels)\n",
        "    print(\"Accuracy with original features:\", original_accuracy)\n",
        "\n",
        "    # Train the Bernoulli Naive Bayes model with new features\n",
        "    bernoulli_nb_new = BernoulliNB(alpha=0.1, binarize=0)\n",
        "    print(new_mini_train_data)\n",
        "    bernoulli_nb_new.fit(new_mini_train_data, mini_train_labels)\n",
        "    new_accuracy = bernoulli_nb_new.score(new_dev_data, dev_labels)\n",
        "    print(\"Accuracy with new features:\", new_accuracy)\n",
        "\n",
        "  ### STUDENT END ###\n",
        "\n",
        "Q7()"
      ],
      "execution_count": 16,
      "outputs": [
        {
          "output_type": "error",
          "ename": "AxisError",
          "evalue": "axis 1 is out of bounds for array of dimension 1",
          "traceback": [
            "\u001b[0;31m---------------------------------------------------------------------------\u001b[0m",
            "\u001b[0;31mAxisError\u001b[0m                                 Traceback (most recent call last)",
            "\u001b[0;32m<ipython-input-16-cf82aebc0cb7>\u001b[0m in \u001b[0;36m<cell line: 57>\u001b[0;34m()\u001b[0m\n\u001b[1;32m     55\u001b[0m   \u001b[0;31m### STUDENT END ###\u001b[0m\u001b[0;34m\u001b[0m\u001b[0;34m\u001b[0m\u001b[0m\n\u001b[1;32m     56\u001b[0m \u001b[0;34m\u001b[0m\u001b[0m\n\u001b[0;32m---> 57\u001b[0;31m \u001b[0mQ7\u001b[0m\u001b[0;34m(\u001b[0m\u001b[0;34m)\u001b[0m\u001b[0;34m\u001b[0m\u001b[0;34m\u001b[0m\u001b[0m\n\u001b[0m",
            "\u001b[0;32m<ipython-input-16-cf82aebc0cb7>\u001b[0m in \u001b[0;36mQ7\u001b[0;34m()\u001b[0m\n\u001b[1;32m     37\u001b[0m     \u001b[0;31m# Generate new features for mini train data and dev data\u001b[0m\u001b[0;34m\u001b[0m\u001b[0;34m\u001b[0m\u001b[0m\n\u001b[1;32m     38\u001b[0m \u001b[0;31m#    print(mini_train_data.values)\u001b[0m\u001b[0;34m\u001b[0m\u001b[0;34m\u001b[0m\u001b[0m\n\u001b[0;32m---> 39\u001b[0;31m     \u001b[0mnew_mini_train_data\u001b[0m \u001b[0;34m=\u001b[0m \u001b[0mgenerate_new_features\u001b[0m\u001b[0;34m(\u001b[0m\u001b[0mmini_train_data\u001b[0m\u001b[0;34m.\u001b[0m\u001b[0mvalues\u001b[0m\u001b[0;34m)\u001b[0m\u001b[0;34m\u001b[0m\u001b[0;34m\u001b[0m\u001b[0m\n\u001b[0m\u001b[1;32m     40\u001b[0m     \u001b[0mnew_dev_data\u001b[0m \u001b[0;34m=\u001b[0m \u001b[0mgenerate_new_features\u001b[0m\u001b[0;34m(\u001b[0m\u001b[0mdev_data\u001b[0m\u001b[0;34m)\u001b[0m\u001b[0;34m\u001b[0m\u001b[0;34m\u001b[0m\u001b[0m\n\u001b[1;32m     41\u001b[0m \u001b[0;34m\u001b[0m\u001b[0m\n",
            "\u001b[0;32m<ipython-input-16-cf82aebc0cb7>\u001b[0m in \u001b[0;36mgenerate_new_features\u001b[0;34m(data)\u001b[0m\n\u001b[1;32m     12\u001b[0m                     \u001b[0mimage\u001b[0m \u001b[0;34m=\u001b[0m \u001b[0mnp\u001b[0m\u001b[0;34m.\u001b[0m\u001b[0marray\u001b[0m\u001b[0;34m(\u001b[0m\u001b[0mlist\u001b[0m\u001b[0;34m(\u001b[0m\u001b[0mmap\u001b[0m\u001b[0;34m(\u001b[0m\u001b[0mint\u001b[0m\u001b[0;34m,\u001b[0m \u001b[0mimage\u001b[0m\u001b[0;34m.\u001b[0m\u001b[0msplit\u001b[0m\u001b[0;34m(\u001b[0m\u001b[0;34m','\u001b[0m\u001b[0;34m)\u001b[0m\u001b[0;34m)\u001b[0m\u001b[0;34m)\u001b[0m\u001b[0;34m)\u001b[0m\u001b[0;34m.\u001b[0m\u001b[0mreshape\u001b[0m\u001b[0;34m(\u001b[0m\u001b[0;36m28\u001b[0m\u001b[0;34m,\u001b[0m \u001b[0;36m28\u001b[0m\u001b[0;34m)\u001b[0m\u001b[0;34m\u001b[0m\u001b[0;34m\u001b[0m\u001b[0m\n\u001b[1;32m     13\u001b[0m                 \u001b[0;31m# Sum pixel values in each row\u001b[0m\u001b[0;34m\u001b[0m\u001b[0;34m\u001b[0m\u001b[0m\n\u001b[0;32m---> 14\u001b[0;31m                 \u001b[0mrow_sums\u001b[0m \u001b[0;34m=\u001b[0m \u001b[0mnp\u001b[0m\u001b[0;34m.\u001b[0m\u001b[0msum\u001b[0m\u001b[0;34m(\u001b[0m\u001b[0mimage\u001b[0m\u001b[0;34m,\u001b[0m \u001b[0maxis\u001b[0m\u001b[0;34m=\u001b[0m\u001b[0;36m1\u001b[0m\u001b[0;34m)\u001b[0m\u001b[0;34m\u001b[0m\u001b[0;34m\u001b[0m\u001b[0m\n\u001b[0m\u001b[1;32m     15\u001b[0m                 \u001b[0;31m# Average pixel values in each column\u001b[0m\u001b[0;34m\u001b[0m\u001b[0;34m\u001b[0m\u001b[0m\n\u001b[1;32m     16\u001b[0m                 \u001b[0mcol_averages\u001b[0m \u001b[0;34m=\u001b[0m \u001b[0mnp\u001b[0m\u001b[0;34m.\u001b[0m\u001b[0mmean\u001b[0m\u001b[0;34m(\u001b[0m\u001b[0mimage\u001b[0m\u001b[0;34m,\u001b[0m \u001b[0maxis\u001b[0m\u001b[0;34m=\u001b[0m\u001b[0;36m0\u001b[0m\u001b[0;34m)\u001b[0m\u001b[0;34m\u001b[0m\u001b[0;34m\u001b[0m\u001b[0m\n",
            "\u001b[0;32m/usr/local/lib/python3.10/dist-packages/numpy/core/fromnumeric.py\u001b[0m in \u001b[0;36msum\u001b[0;34m(a, axis, dtype, out, keepdims, initial, where)\u001b[0m\n\u001b[1;32m   2311\u001b[0m         \u001b[0;32mreturn\u001b[0m \u001b[0mres\u001b[0m\u001b[0;34m\u001b[0m\u001b[0;34m\u001b[0m\u001b[0m\n\u001b[1;32m   2312\u001b[0m \u001b[0;34m\u001b[0m\u001b[0m\n\u001b[0;32m-> 2313\u001b[0;31m     return _wrapreduction(a, np.add, 'sum', axis, dtype, out, keepdims=keepdims,\n\u001b[0m\u001b[1;32m   2314\u001b[0m                           initial=initial, where=where)\n\u001b[1;32m   2315\u001b[0m \u001b[0;34m\u001b[0m\u001b[0m\n",
            "\u001b[0;32m/usr/local/lib/python3.10/dist-packages/numpy/core/fromnumeric.py\u001b[0m in \u001b[0;36m_wrapreduction\u001b[0;34m(obj, ufunc, method, axis, dtype, out, **kwargs)\u001b[0m\n\u001b[1;32m     86\u001b[0m                 \u001b[0;32mreturn\u001b[0m \u001b[0mreduction\u001b[0m\u001b[0;34m(\u001b[0m\u001b[0maxis\u001b[0m\u001b[0;34m=\u001b[0m\u001b[0maxis\u001b[0m\u001b[0;34m,\u001b[0m \u001b[0mout\u001b[0m\u001b[0;34m=\u001b[0m\u001b[0mout\u001b[0m\u001b[0;34m,\u001b[0m \u001b[0;34m**\u001b[0m\u001b[0mpasskwargs\u001b[0m\u001b[0;34m)\u001b[0m\u001b[0;34m\u001b[0m\u001b[0;34m\u001b[0m\u001b[0m\n\u001b[1;32m     87\u001b[0m \u001b[0;34m\u001b[0m\u001b[0m\n\u001b[0;32m---> 88\u001b[0;31m     \u001b[0;32mreturn\u001b[0m \u001b[0mufunc\u001b[0m\u001b[0;34m.\u001b[0m\u001b[0mreduce\u001b[0m\u001b[0;34m(\u001b[0m\u001b[0mobj\u001b[0m\u001b[0;34m,\u001b[0m \u001b[0maxis\u001b[0m\u001b[0;34m,\u001b[0m \u001b[0mdtype\u001b[0m\u001b[0;34m,\u001b[0m \u001b[0mout\u001b[0m\u001b[0;34m,\u001b[0m \u001b[0;34m**\u001b[0m\u001b[0mpasskwargs\u001b[0m\u001b[0;34m)\u001b[0m\u001b[0;34m\u001b[0m\u001b[0;34m\u001b[0m\u001b[0m\n\u001b[0m\u001b[1;32m     89\u001b[0m \u001b[0;34m\u001b[0m\u001b[0m\n\u001b[1;32m     90\u001b[0m \u001b[0;34m\u001b[0m\u001b[0m\n",
            "\u001b[0;31mAxisError\u001b[0m: axis 1 is out of bounds for array of dimension 1"
          ]
        }
      ]
    },
    {
      "cell_type": "code",
      "source": [
        "row_sums = np.array([img.sum(axis=1) for img in mini_train_data.values.reshape(-1,28,28)])\n",
        "col_sums = np.array([img.sum(axis=0) for img in mini_train_data.values.reshape(-1,28,28)])\n",
        "\n",
        "row_avgs = np.array([img.mean(axis=1) for img in mini_train_data.values.reshape(-1,28,28)])\n",
        "col_avgs = np.array([img.mean(axis=0) for img in mini_train_data.values.reshape(-1,28,28)])"
      ],
      "metadata": {
        "colab": {
          "base_uri": "https://localhost:8080/"
        },
        "id": "tvHGGsS9WniK",
        "outputId": "f3c25103-079a-4696-f1e0-c282dad72093"
      },
      "execution_count": 23,
      "outputs": [
        {
          "output_type": "execute_result",
          "data": {
            "text/plain": [
              "(1000, 28)"
            ]
          },
          "metadata": {},
          "execution_count": 23
        }
      ]
    },
    {
      "cell_type": "code",
      "source": [
        "block_sum = mini_train_data.values.reshape(-1,28,28)[0].reshape(-1,7,7).sum(axis=(1,2))"
      ],
      "metadata": {
        "colab": {
          "base_uri": "https://localhost:8080/"
        },
        "id": "o97DL4WwWsoz",
        "outputId": "0c8bc5d2-e863-457d-f21a-cc81a5e44e96"
      },
      "execution_count": 27,
      "outputs": [
        {
          "output_type": "execute_result",
          "data": {
            "text/plain": [
              "array([ 0.        ,  0.        ,  3.61960784, 15.53333333, 11.92941176,\n",
              "       10.79215686, 10.6       , 13.87058824, 12.96470588, 12.52941176,\n",
              "        9.54117647, 12.8627451 , 15.52156863,  3.77254902,  0.        ,\n",
              "        0.        ])"
            ]
          },
          "metadata": {},
          "execution_count": 27
        }
      ]
    },
    {
      "cell_type": "code",
      "source": [
        "n = 3\n",
        "img = mini_train_data.values.reshape(-1,28,28)[0]\n",
        "\n",
        "def get_windows(img, n):\n",
        "  blocks = []\n",
        "  for r in range(28-n):\n",
        "      for c in range(28-n):\n",
        "          blocks.append(img[r:r+n,c:c+n])\n",
        "          #print(block)\n",
        "  return np.array(blocks)\n",
        "def get_max_pool(img, n):\n",
        "  max_pool = np.array([window.max() for window in get_windows(img, n)])\n",
        "  return max_pool\n",
        "max_pools = np.array([get_max_pool(img, n) for img in mini_train_data.values.reshape(-1,28,28)])"
      ],
      "metadata": {
        "id": "1LMp1vaFZfTt"
      },
      "execution_count": 35,
      "outputs": []
    },
    {
      "cell_type": "code",
      "source": [
        "max_pools.shape"
      ],
      "metadata": {
        "colab": {
          "base_uri": "https://localhost:8080/"
        },
        "id": "mmyr2v0JazMh",
        "outputId": "1fc77e05-4a2a-4e84-a7a8-0cd6f1e74ba1"
      },
      "execution_count": 37,
      "outputs": [
        {
          "output_type": "execute_result",
          "data": {
            "text/plain": [
              "(1000, 625)"
            ]
          },
          "metadata": {},
          "execution_count": 37
        }
      ]
    },
    {
      "cell_type": "code",
      "source": [],
      "metadata": {
        "id": "ZRRi9PC7eAvB"
      },
      "execution_count": null,
      "outputs": []
    }
  ]
}
