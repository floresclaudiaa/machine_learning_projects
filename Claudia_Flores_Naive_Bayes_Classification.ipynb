{
  "nbformat": 4,
  "nbformat_minor": 0,
  "metadata": {
    "kernelspec": {
      "display_name": "Python 3",
      "language": "python",
      "name": "python3"
    },
    "language_info": {
      "codemirror_mode": {
        "name": "ipython",
        "version": 3
      },
      "file_extension": ".py",
      "mimetype": "text/x-python",
      "name": "python",
      "nbconvert_exporter": "python",
      "pygments_lexer": "ipython3",
      "version": "3.7.4"
    },
    "toc": {
      "base_numbering": 1,
      "nav_menu": {},
      "number_sections": false,
      "sideBar": true,
      "skip_h1_title": true,
      "title_cell": "Table of Contents",
      "title_sidebar": "Contents",
      "toc_cell": false,
      "toc_position": {},
      "toc_section_display": true,
      "toc_window_display": false
    },
    "colab": {
      "provenance": [],
      "collapsed_sections": [
        "rWAjdfIsTyhI"
      ]
    }
  },
  "cells": [
    {
      "cell_type": "markdown",
      "metadata": {
        "id": "rWAjdfIsTyhI"
      },
      "source": [
        "# Project 3: Topic Classification using Naive Bayes\n",
        "\n",
        "**Solution**"
      ]
    },
    {
      "cell_type": "markdown",
      "metadata": {
        "id": "p0KwRzrQTyhL"
      },
      "source": [
        "# Intro\n",
        "---\n",
        "In this project, you'll work with text data from newsgroup posts on a variety of topics. You'll train classifiers to distinguish posts by topics inferred from the text. Whereas with digit classification, where each input is relatively **dense** (represented as a 28x28 matrix of pixels, many of which are non-zero), here each document is relatively **sparse** (represented as a **bag-of-words**). Only a few words of the total vocabulary are active in any given document. The assumption is that a label depends only on the count of words, not their order.\n",
        "\n",
        "The `sklearn` documentation on feature extraction may be useful:\n",
        "http://scikit-learn.org/stable/modules/feature_extraction.html\n",
        "\n",
        "Each problem can be addressed succinctly with the included packages -- please don't add any more. Grading will be based on writing clean, commented code, along with a few short answers.\n",
        "\n",
        "As always, you're welcome to work on the project in groups and discuss ideas on Slack, but <b> please prepare your own write-up with your own code. </b>\n",
        "\n",
        " ## Requirements:\n",
        "---\n",
        "1. Comment your code.\n",
        "1. All graphs should have titles, label for each axis, and if needed a legend. It should be understandable on its own.\n",
        "1. All code must run on colab.research.google.com\n",
        "1. You should not import any additional libraries.\n",
        "1. Try and minimize the use of the global namespace (meaning keep things in functions).\n",
        "\n"
      ]
    },
    {
      "cell_type": "code",
      "metadata": {
        "id": "QNNjknnZTyhN"
      },
      "source": [
        "# This tells matplotlib not to try opening a new window for each plot.\n",
        "%matplotlib inline\n",
        "\n",
        "# General libraries.\n",
        "import re\n",
        "import numpy as np\n",
        "import pandas as pd\n",
        "import matplotlib.pyplot as plt\n",
        "\n",
        "# SK-learn libraries for learning.\n",
        "from sklearn.pipeline import Pipeline\n",
        "from sklearn.neighbors import KNeighborsClassifier\n",
        "from sklearn.linear_model import LogisticRegression\n",
        "from sklearn.naive_bayes import BernoulliNB\n",
        "from sklearn.naive_bayes import MultinomialNB\n",
        "\n",
        "# SK-learn libraries for evaluation.\n",
        "from sklearn.metrics import confusion_matrix\n",
        "from sklearn import metrics\n",
        "from sklearn.metrics import classification_report\n",
        "\n",
        "# SK-learn library for importing the newsgroup data.\n",
        "from sklearn.datasets import fetch_20newsgroups\n",
        "\n",
        "# SK-learn libraries for feature extraction from text.\n",
        "from sklearn.feature_extraction.text import *\n",
        "\n",
        "import nltk"
      ],
      "execution_count": 1,
      "outputs": []
    },
    {
      "cell_type": "markdown",
      "metadata": {
        "id": "orEWeRJaTyhO"
      },
      "source": [
        "Load the data, stripping out metadata so that only textual features will be used, and restricting documents to 4 specific topics. By default, newsgroups data is split into training and test sets, but here the test set gets further split into development and test sets.  (If you remove the categories argument from the fetch function calls, you'd get documents from all 20 topics.)"
      ]
    },
    {
      "cell_type": "code",
      "metadata": {
        "id": "5b9J-D5DTyhP",
        "colab": {
          "base_uri": "https://localhost:8080/"
        },
        "outputId": "d3fd54a1-0e27-4076-91ba-e5191951a86c"
      },
      "source": [
        "categories = ['alt.atheism', 'talk.religion.misc', 'comp.graphics', 'sci.space']\n",
        "newsgroups_train = fetch_20newsgroups(subset='train',\n",
        "                                      remove=('headers', 'footers', 'quotes'),\n",
        "                                      categories=categories)\n",
        "newsgroups_test  = fetch_20newsgroups(subset='test',\n",
        "                                      remove=('headers', 'footers', 'quotes'),\n",
        "                                      categories=categories)\n",
        "\n",
        "num_test = int(len(newsgroups_test.target) / 2)\n",
        "test_data, test_labels   = newsgroups_test.data[num_test:], newsgroups_test.target[num_test:]\n",
        "dev_data, dev_labels     = newsgroups_test.data[:num_test], newsgroups_test.target[:num_test]\n",
        "train_data, train_labels = newsgroups_train.data, newsgroups_train.target\n",
        "\n",
        "print('training label shape:', train_labels.shape)\n",
        "print('dev label shape:',      dev_labels.shape)\n",
        "print('test label shape:',     test_labels.shape)\n",
        "print('labels names:',         newsgroups_train.target_names)"
      ],
      "execution_count": 2,
      "outputs": [
        {
          "output_type": "stream",
          "name": "stdout",
          "text": [
            "training label shape: (2034,)\n",
            "dev label shape: (676,)\n",
            "test label shape: (677,)\n",
            "labels names: ['alt.atheism', 'comp.graphics', 'sci.space', 'talk.religion.misc']\n"
          ]
        }
      ]
    },
    {
      "cell_type": "markdown",
      "metadata": {
        "id": "zOS6IyT0TyhR"
      },
      "source": [
        "### Question 1: Examining your data\n",
        "---\n",
        "\n",
        " 1. For each of the first 5 training examples, print the text of the message along with the label (checkout newsgroups_train.target_names)."
      ]
    },
    {
      "cell_type": "code",
      "metadata": {
        "id": "LFFUipfaTyhS",
        "colab": {
          "base_uri": "https://localhost:8080/"
        },
        "outputId": "d45bd039-6b1f-4d02-e956-f61c3ed48f07"
      },
      "source": [
        "def Q1(num_examples=5):\n",
        "\n",
        "    ### STUDENT START ###\n",
        "\n",
        "    # Fetch the data and labels for training examples\n",
        "    train_data = newsgroups_train.data\n",
        "    train_labels = newsgroups_train.target\n",
        "    target_names = newsgroups_train.target_names\n",
        "\n",
        "    # Print the first x = 'num_examples' training examples\n",
        "    for i in range(num_examples):\n",
        "        print(f\"Label: {target_names[train_labels[i]]}\")\n",
        "        print(f\"Text: {train_data[i]}\")\n",
        "        print(\"\\n\" + \"-\"*80 + \"\\n\")\n",
        "\n",
        "    ### STUDENT END ###\n",
        "\n",
        "Q1(5)"
      ],
      "execution_count": 3,
      "outputs": [
        {
          "output_type": "stream",
          "name": "stdout",
          "text": [
            "Label: comp.graphics\n",
            "Text: Hi,\n",
            "\n",
            "I've noticed that if you only save a model (with all your mapping planes\n",
            "positioned carefully) to a .3DS file that when you reload it after restarting\n",
            "3DS, they are given a default position and orientation.  But if you save\n",
            "to a .PRJ file their positions/orientation are preserved.  Does anyone\n",
            "know why this information is not stored in the .3DS file?  Nothing is\n",
            "explicitly said in the manual about saving texture rules in the .PRJ file. \n",
            "I'd like to be able to read the texture rule information, does anyone have \n",
            "the format for the .PRJ file?\n",
            "\n",
            "Is the .CEL file format available from somewhere?\n",
            "\n",
            "Rych\n",
            "\n",
            "--------------------------------------------------------------------------------\n",
            "\n",
            "Label: talk.religion.misc\n",
            "Text: \n",
            "\n",
            "Seems to be, barring evidence to the contrary, that Koresh was simply\n",
            "another deranged fanatic who thought it neccessary to take a whole bunch of\n",
            "folks with him, children and all, to satisfy his delusional mania. Jim\n",
            "Jones, circa 1993.\n",
            "\n",
            "\n",
            "Nope - fruitcakes like Koresh have been demonstrating such evil corruption\n",
            "for centuries.\n",
            "\n",
            "--------------------------------------------------------------------------------\n",
            "\n",
            "Label: sci.space\n",
            "Text: \n",
            " >In article <1993Apr19.020359.26996@sq.sq.com>, msb@sq.sq.com (Mark Brader) \n",
            "\n",
            "MB>                                                             So the\n",
            "MB> 1970 figure seems unlikely to actually be anything but a perijove.\n",
            "\n",
            "JG>Sorry, _perijoves_...I'm not used to talking this language.\n",
            "\n",
            "Couldn't we just say periapsis or apoapsis?\n",
            "\n",
            " \n",
            "\n",
            "--------------------------------------------------------------------------------\n",
            "\n",
            "Label: alt.atheism\n",
            "Text: I have a request for those who would like to see Charley Wingate\n",
            "respond to the \"Charley Challenges\" (and judging from my e-mail, there\n",
            "appear to be quite a few of you.)  \n",
            "\n",
            "It is clear that Mr. Wingate intends to continue to post tangential or\n",
            "unrelated articles while ingoring the Challenges themselves.  Between\n",
            "the last two re-postings of the Challenges, I noted perhaps a dozen or\n",
            "more posts by Mr. Wingate, none of which answered a single Challenge.  \n",
            "\n",
            "It seems unmistakable to me that Mr. Wingate hopes that the questions\n",
            "will just go away, and he is doing his level best to change the\n",
            "subject.  Given that this seems a rather common net.theist tactic, I\n",
            "would like to suggest that we impress upon him our desire for answers,\n",
            "in the following manner:\n",
            "\n",
            "1. Ignore any future articles by Mr. Wingate that do not address the\n",
            "Challenges, until he answers them or explictly announces that he\n",
            "refuses to do so.\n",
            "\n",
            "--or--\n",
            "\n",
            "2. If you must respond to one of his articles, include within it\n",
            "something similar to the following:\n",
            "\n",
            "    \"Please answer the questions posed to you in the Charley Challenges.\"\n",
            "\n",
            "Really, I'm not looking to humiliate anyone here, I just want some\n",
            "honest answers.  You wouldn't think that honesty would be too much to\n",
            "ask from a devout Christian, would you?  \n",
            "\n",
            "Nevermind, that was a rhetorical question.\n",
            "\n",
            "--------------------------------------------------------------------------------\n",
            "\n",
            "Label: sci.space\n",
            "Text: AW&ST  had a brief blurb on a Manned Lunar Exploration confernce\n",
            "May 7th  at Crystal City Virginia, under the auspices of AIAA.\n",
            "\n",
            "Does anyone know more about this?  How much, to attend????\n",
            "\n",
            "Anyone want to go?\n",
            "\n",
            "--------------------------------------------------------------------------------\n",
            "\n"
          ]
        }
      ]
    },
    {
      "cell_type": "markdown",
      "metadata": {
        "id": "r53zpu-mTyhU"
      },
      "source": [
        "### Question 2: Text representation\n",
        "---\n",
        "\n",
        "1. Transform the training data into a matrix of **word** unigram feature vectors.\n",
        "  1. What is the size of the vocabulary?\n",
        "  1. What is the average number of non-zero features per example?  \n",
        "  1. What is the fraction of the non-zero entries in the matrix?  \n",
        "  1. What are the 0th and last feature strings (in alphabetical order)?\n",
        "  - _Use `CountVectorization` and its `.fit_transform` method.  Use `.nnz` and `.shape` attributes, and `.get_feature_names` method._\n",
        "1. Now transform the training data into a matrix of **word** unigram feature vectors restricting to the vocabulary with these 4 words: [\"atheism\", \"graphics\", \"space\", \"religion\"].  Confirm the size of the vocabulary.\n",
        "  1. What is the average number of non-zero features per example?\n",
        "  - _Use `CountVectorization(vocabulary=...)` and its `.transform` method._\n",
        "1. Now transform the training data into a matrix of **character** bigram and trigram feature vectors.  \n",
        "  1. What is the size of the vocabulary?\n",
        "  - _Use `CountVectorization(analyzer=..., ngram_range=...)` and its `.fit_transform` method._\n",
        "1. Now transform the training data into a matrix of **word** unigram feature vectors and prune words that appear in fewer than 10 documents.  \n",
        "  1. What is the size of the vocabulary?<br/>\n",
        "  - _Use `CountVectorization(min_df=...)` and its `.fit_transform` method._\n",
        "1. Now again transform the training data into a matrix of **word** unigram feature vectors.\n",
        " 1. What is the fraction of words in the development vocabulary that is missing from the training vocabulary?\n",
        " - _Hint: Build vocabularies for both train and dev and look at the size of the difference._\n",
        "\n",
        "Notes:\n",
        "* `.fit_transform` makes 2 passes through the data: first it computes the vocabulary (\"fit\"), second it converts the raw text into feature vectors using the vocabulary (\"transform\").\n",
        "* `.fit_transform` and `.transform` return sparse matrix objects.  See about them at http://docs.scipy.org/doc/scipy-0.14.0/reference/generated/scipy.sparse.csr_matrix.html."
      ]
    },
    {
      "cell_type": "code",
      "metadata": {
        "id": "_xkWZwBVTyhV",
        "colab": {
          "base_uri": "https://localhost:8080/"
        },
        "outputId": "0b1f31c2-3797-44fa-e551-bbb41112fc7a"
      },
      "source": [
        "def Q2():\n",
        "\n",
        "    ### STUDENT START ###\n",
        "\n",
        "    # Part 1: Transform the training data into a matrix of word unigram feature vectors\n",
        "    vectorizer = CountVectorizer()\n",
        "    X_train = vectorizer.fit_transform(train_data)\n",
        "\n",
        "    # Size of the vocabulary\n",
        "    vocab_size = len(vectorizer.get_feature_names_out())\n",
        "\n",
        "    # Average number of non-zero features per example\n",
        "    avg_nonzero = X_train.nnz / X_train.shape[0]\n",
        "\n",
        "    # Fraction of the non-zero entries in the matrix\n",
        "    frac_nonzero = X_train.nnz / (X_train.shape[0] * X_train.shape[1])\n",
        "\n",
        "    # 0th and last feature strings (in alphabetical order)\n",
        "    feature_names = vectorizer.get_feature_names_out()\n",
        "    first_feature = feature_names[0]\n",
        "    last_feature = feature_names[-1]\n",
        "\n",
        "    print(\"Size of the vocabulary:\", vocab_size)\n",
        "    print(\"Average number of non-zero features per example:\", avg_nonzero)\n",
        "    print(\"Fraction of non-zero entries in the matrix:\", frac_nonzero)\n",
        "    print(\"0th feature string:\", first_feature)\n",
        "    print(\"Last feature string:\", last_feature)\n",
        "\n",
        "    # Part 2: Restricting vocabulary to specific words\n",
        "    restricted_vocab = [\"atheism\", \"graphics\", \"space\", \"religion\"]\n",
        "    vectorizer_restricted = CountVectorizer(vocabulary=restricted_vocab)\n",
        "    X_train_restricted = vectorizer_restricted.fit_transform(train_data)\n",
        "\n",
        "    # Confirm the size of the vocabulary\n",
        "    restricted_vocab_size = len(vectorizer_restricted.get_feature_names_out())\n",
        "\n",
        "    # Average number of non-zero features per example\n",
        "    avg_nonzero_restricted = X_train_restricted.nnz / X_train_restricted.shape[0]\n",
        "\n",
        "    print(\"Size of the restricted vocabulary:\", restricted_vocab_size)\n",
        "    print(\"Average number of non-zero features per example (restricted):\", avg_nonzero_restricted)\n",
        "\n",
        "    # Part 3: Character bigram and trigram feature vectors\n",
        "    vectorizer_char = CountVectorizer(analyzer='char', ngram_range=(2, 3))\n",
        "    X_train_char = vectorizer_char.fit_transform(train_data)\n",
        "\n",
        "    # Size of the vocabulary\n",
        "    char_vocab_size = len(vectorizer_char.get_feature_names_out())\n",
        "\n",
        "    print(\"Size of the character bigram and trigram vocabulary:\", char_vocab_size)\n",
        "\n",
        "    # Part 4: Prune words that appear in fewer than 10 documents\n",
        "    vectorizer_pruned = CountVectorizer(min_df=10)\n",
        "    X_train_pruned = vectorizer_pruned.fit_transform(train_data)\n",
        "\n",
        "    # Size of the vocabulary\n",
        "    pruned_vocab_size = len(vectorizer_pruned.get_feature_names_out())\n",
        "\n",
        "    print(\"Size of the pruned vocabulary:\", pruned_vocab_size)\n",
        "\n",
        "    # Part 5: Fraction of words in the development vocabulary that is missing from the training vocabulary\n",
        "    dev_vectorizer = CountVectorizer()\n",
        "    X_dev = dev_vectorizer.fit_transform(dev_data)\n",
        "\n",
        "    train_vocab = set(vectorizer.get_feature_names_out())\n",
        "    dev_vocab = set(dev_vectorizer.get_feature_names_out())\n",
        "\n",
        "    missing_vocab_fraction = len(dev_vocab - train_vocab) / len(dev_vocab)\n",
        "\n",
        "    print(\"Fraction of words in the development vocabulary missing from the training vocabulary:\", missing_vocab_fraction)\n",
        "\n",
        "    ### STUDENT END ###\n",
        "\n",
        "Q2()"
      ],
      "execution_count": 4,
      "outputs": [
        {
          "output_type": "stream",
          "name": "stdout",
          "text": [
            "Size of the vocabulary: 26879\n",
            "Average number of non-zero features per example: 96.70599803343165\n",
            "Fraction of non-zero entries in the matrix: 0.0035978272269590263\n",
            "0th feature string: 00\n",
            "Last feature string: zyxel\n",
            "Size of the restricted vocabulary: 4\n",
            "Average number of non-zero features per example (restricted): 0.26843657817109146\n",
            "Size of the character bigram and trigram vocabulary: 35478\n",
            "Size of the pruned vocabulary: 3064\n",
            "Fraction of words in the development vocabulary missing from the training vocabulary: 0.24787640034470024\n"
          ]
        }
      ]
    },
    {
      "cell_type": "markdown",
      "metadata": {
        "id": "dIaSTL9OTyhX"
      },
      "source": [
        "### Question 3: Initial model evaluation\n",
        "---\n",
        "\n",
        "1. Transform the training and development data to matrices of word unigram feature vectors.\n",
        "1. Produce several k-Nearest Neigbors models by varying k, including one with k set to optimize f1 score.  For each model, show the k value and f1 score.\n",
        "1. Produce several Naive Bayes models by varying smoothing (alpha), including one with alpha set approximately to optimize f1 score.  For each model, show the alpha value and f1 score.\n",
        "1. Produce several Logistic Regression models by varying L2 regularization strength (C), including one with C set approximately to optimize f1 score.  For each model, show the C value, f1 score, and sum of squared weights for each topic.\n",
        "1. Why doesn't k-Nearest Neighbors work well for this problem?\n",
        "1. Why doesn't Logistic Regression work as well as Naive Bayes does?\n",
        "1. What is the relationship between logistic regression's sum of squared weights vs. C value?\n",
        "\n",
        "Notes:\n",
        "* Train on the transformed training data.\n",
        "* Evaluate on the transformed development data.\n",
        "* You can use `CountVectorizer` and its `.fit_transform` and `.transform` methods to transform data.\n",
        "* You can use `KNeighborsClassifier(...)` to produce a k-Nearest Neighbors model.\n",
        "* You can use `MultinomialNB(...)` to produce a Naive Bayes model.\n",
        "* You can use `LogisticRegression(C=..., solver=\"liblinear\", multi_class=\"auto\")` to produce a Logistic Regression model.\n",
        "* You can use `LogisticRegression`'s `.coef_` method to get weights for each topic.\n",
        "* You can use `metrics.f1_score(..., average=\"weighted\")` to compute f1 score."
      ]
    },
    {
      "cell_type": "code",
      "source": [
        "def Q3():\n",
        "\n",
        "    ### STUDENT START ###\n",
        "\n",
        "    # Transform the training and development data to matrices of word unigram feature vectors\n",
        "    vectorizer = CountVectorizer()\n",
        "    X_train = vectorizer.fit_transform(train_data)\n",
        "    X_dev = vectorizer.transform(dev_data)\n",
        "    print(X_train.shape)\n",
        "    print(X_dev.shape)\n",
        "\n",
        "    # List of k values for k-Nearest Neighbors\n",
        "    k_values = [1, 3, 4, 5, 6, 7, 9, 10, 20]\n",
        "    for k in k_values:\n",
        "        knn = KNeighborsClassifier(n_neighbors=k)\n",
        "        knn.fit(X_train, train_labels)\n",
        "        pred = knn.predict(X_dev)\n",
        "        f1 = metrics.f1_score(dev_labels, pred, average=\"weighted\")\n",
        "        print(f\"k={k}, k-NN F1 Score: {f1}\")\n",
        "\n",
        "    # List of alpha values for Naive Bayes\n",
        "    alpha_values = [0.1, 0.5, 1.0, 5.0, 10.0]\n",
        "    for alpha in alpha_values:\n",
        "        nb = MultinomialNB(alpha=alpha)\n",
        "        nb.fit(X_train, train_labels)\n",
        "        pred = nb.predict(X_dev)\n",
        "        f1 = metrics.f1_score(dev_labels, pred, average=\"weighted\")\n",
        "        print(f\"alpha={alpha}, Naive Bayes F1 Score: {f1}\")\n",
        "\n",
        "    # List of C values for Logistic Regression\n",
        "    C_values = [0.01, 0.1, 1, 10, 100]\n",
        "    best_lr = (0, 0)\n",
        "    for C in C_values:\n",
        "        lr = LogisticRegression(C=C, solver=\"liblinear\", multi_class=\"auto\")\n",
        "        lr.fit(X_train, train_labels)\n",
        "        pred = lr.predict(X_dev)\n",
        "        f1 = metrics.f1_score(dev_labels, pred, average=\"weighted\")\n",
        "        if f1 > best_lr[1]:\n",
        "            best_lr = (C, f1)\n",
        "        print(f\"C={C}, Logistic Regression F1 Score: {f1}, Sum of Squared Weights: {str((lr.coef_**2).sum(axis=1))}\")\n",
        "\n",
        "    ### STUDENT END ###\n",
        "\n",
        "Q3()"
      ],
      "metadata": {
        "colab": {
          "base_uri": "https://localhost:8080/"
        },
        "id": "Lo6DnwDJz8Zf",
        "outputId": "7f43f8ae-131f-45ff-cae7-e39737076943"
      },
      "execution_count": 5,
      "outputs": [
        {
          "output_type": "stream",
          "name": "stdout",
          "text": [
            "(2034, 26879)\n",
            "(676, 26879)\n",
            "k=1, k-NN F1 Score: 0.3805030018531525\n",
            "k=3, k-NN F1 Score: 0.4084150225437623\n",
            "k=4, k-NN F1 Score: 0.4031227993847515\n",
            "k=5, k-NN F1 Score: 0.4287607236218357\n",
            "k=6, k-NN F1 Score: 0.4466650540867595\n",
            "k=7, k-NN F1 Score: 0.45047910006117586\n",
            "k=9, k-NN F1 Score: 0.4365666176198027\n",
            "k=10, k-NN F1 Score: 0.4278502905941064\n",
            "k=20, k-NN F1 Score: 0.4243419588207676\n",
            "alpha=0.1, Naive Bayes F1 Score: 0.7903052385098862\n",
            "alpha=0.5, Naive Bayes F1 Score: 0.7862862961995258\n",
            "alpha=1.0, Naive Bayes F1 Score: 0.7777320236017224\n",
            "alpha=5.0, Naive Bayes F1 Score: 0.7234892095047329\n",
            "alpha=10.0, Naive Bayes F1 Score: 0.6674814338256576\n",
            "C=0.01, Logistic Regression F1 Score: 0.6646997417582748, Sum of Squared Weights: [2.54153099 2.93970937 2.86246912 2.25002927]\n",
            "C=0.1, Logistic Regression F1 Score: 0.6966243542418833, Sum of Squared Weights: [27.12953099 24.66144866 27.45885093 23.02655794]\n",
            "C=1, Logistic Regression F1 Score: 0.6960862519544118, Sum of Squared Weights: [166.99355522 130.89788713 158.01526351 145.74880351]\n",
            "C=10, Logistic Regression F1 Score: 0.6851036779484215, Sum of Squared Weights: [585.65916784 448.194911   539.60466372 530.64189624]\n",
            "C=100, Logistic Regression F1 Score: 0.6811818827662475, Sum of Squared Weights: [1420.03580234 1082.28683063 1289.34755622 1318.39713283]\n"
          ]
        }
      ]
    },
    {
      "cell_type": "markdown",
      "metadata": {
        "id": "1K9kU5AETyhY"
      },
      "source": [
        "ANSWER:\n",
        "\n",
        "- K-Nearest Neighbors generally doesn't work well for text classification problems due to the high dimensionality of text data and the sparsity of the feature vectors. The distance metrics used in k-NN are not well-suited for sparse and high-dimensional data, which often leads to poor performance.\n",
        "\n",
        "- Logistic Regression may not work as well as Naive Bayes for text classification due to the nature of text data. Naive Bayes assumes word independence and tends to work well with the high dimensionality and sparsity of text data. Logistic Regression, while powerful, can be less effective when the data does not have a clear linear decision boundary.\n",
        "\n",
        "- The sum of squared weights in Logistic Regression generally decreases as the regularization strength (C value) increases. A higher C value means less regularization (more flexibility for the model), leading to larger weight values and thus a higher sum of squared weights. Conversely, a lower C value increases regularization, which penalizes larger weights, leading to a lower sum of squared weights."
      ]
    },
    {
      "cell_type": "markdown",
      "metadata": {
        "id": "b46HltEPTyhY"
      },
      "source": [
        "### Question 4: Feature exploration\n",
        "---\n",
        "\n",
        "1. Transform the data to a matrix of word **bigram** feature vectors.  Produce a Logistic Regression model.\n",
        "1. For each topic, find the 5 features with the largest weights (not absolute value). If there are no overlaps, you can expect 20 features in total.\n",
        "1. Show a 20 row (features) x 4 column (topics) table of the weights. So, for each of the features (words) found, we show their weight for all topics.\n",
        "1. Do you see any surprising features in this table?\n",
        "\n",
        "Notes:\n",
        "* Train on the transformed training data.\n",
        "* You can use `CountVectorizer` and its `.fit_transform` method to transform data.\n",
        "* You can use `LogisticRegression(C=0.5, solver=\"liblinear\", multi_class=\"auto\")` to produce a Logistic Regression model.\n",
        "* You can use `LogisticRegression`'s `.coef_` method to get weights for each topic.\n",
        "* You can use `np.argsort` to get indices sorted by element value.\n"
      ]
    },
    {
      "cell_type": "code",
      "metadata": {
        "id": "DerfvONsTyha",
        "colab": {
          "base_uri": "https://localhost:8080/"
        },
        "outputId": "8d8f310e-e0f0-4a75-d384-5bfb0f6c3c60"
      },
      "source": [
        "def Q4():\n",
        "\n",
        "    ### STUDENT START ###\n",
        "\n",
        "    # Transform the data to a matrix of word bigram feature vectors\n",
        "    vectorizer = CountVectorizer(ngram_range=(2, 2))\n",
        "    X_train = vectorizer.fit_transform(train_data)\n",
        "    X_dev = vectorizer.transform(dev_data)\n",
        "\n",
        "    # Produce a Logistic Regression model\n",
        "    lr = LogisticRegression(C=0.5, solver=\"liblinear\", multi_class=\"auto\")\n",
        "    lr.fit(X_train, train_labels)\n",
        "\n",
        "    # Get the feature names and weights\n",
        "    feature_names = vectorizer.get_feature_names_out()\n",
        "    coefs = lr.coef_\n",
        "\n",
        "    # Find the 5 features with the largest weights for each topic\n",
        "    top_features_indices = np.argsort(coefs, axis=1)[:, -5:]\n",
        "    top_features_indices = top_features_indices.flatten()\n",
        "    top_features = np.array(feature_names)[top_features_indices]\n",
        "\n",
        "    # Create a table of the weights for the top features\n",
        "    weights_table = pd.DataFrame(index=top_features, columns=newsgroups_train.target_names)\n",
        "\n",
        "    for i, topic in enumerate(newsgroups_train.target_names):\n",
        "        for feature in top_features:\n",
        "            if feature in feature_names:\n",
        "                weights_table.loc[feature, topic] = coefs[i, vectorizer.vocabulary_[feature]]\n",
        "            else:\n",
        "                weights_table.loc[feature, topic] = 0\n",
        "\n",
        "    print(weights_table)\n",
        "\n",
        "    ### STUDENT END ###\n",
        "\n",
        "Q4()"
      ],
      "execution_count": 6,
      "outputs": [
        {
          "output_type": "stream",
          "name": "stdout",
          "text": [
            "              alt.atheism comp.graphics sci.space talk.religion.misc\n",
            "are you          0.446953     -0.248257 -0.097135          -0.305625\n",
            "you are           0.47274     -0.279894 -0.481305           0.028373\n",
            "was just          0.48205     -0.131418 -0.128882          -0.227469\n",
            "cheers kent       0.55572     -0.697918 -0.663766           0.534808\n",
            "claim that       0.605549     -0.199067 -0.274345          -0.140364\n",
            "is there        -0.340882      0.754998 -0.468249          -0.257079\n",
            "out there       -0.274803      0.758658 -0.479057          -0.277089\n",
            "comp graphics   -0.292166      0.801208 -0.370885          -0.285186\n",
            "in advance      -0.459351      0.832567 -0.438501          -0.418453\n",
            "looking for     -0.630341      1.108375  -0.50005          -0.571869\n",
            "it was          -0.203029     -0.309687  0.525362          -0.313552\n",
            "and such        -0.204269     -0.337509  0.590524          -0.218202\n",
            "sci space       -0.258008     -0.329172  0.621087          -0.221245\n",
            "the moon        -0.350563     -0.492747  0.831085            -0.2138\n",
            "the space       -0.268187     -0.530067  0.871114          -0.273845\n",
            "of jesus         -0.09191     -0.173769 -0.212417           0.423755\n",
            "but he          -0.190019     -0.216871 -0.137402           0.491875\n",
            "ignorance is    -0.158011     -0.171075  -0.13958           0.504305\n",
            "cheers kent       0.55572     -0.697918 -0.663766           0.534808\n",
            "the fbi         -0.131974     -0.211363 -0.295286            0.55199\n"
          ]
        }
      ]
    },
    {
      "cell_type": "markdown",
      "metadata": {
        "id": "odPhAx_yTyhb"
      },
      "source": [
        "ANSWER:\n",
        "\n",
        "- Distinctive Phrase Associations: Certain phrases like \"cheers kent\" exhibit unusually strong correlations with specific newsgroups, such as alt.atheism and talk.religion.misc, but strong negative correlations with comp.graphics and sci.space, suggesting highly topic-specific associations.\n",
        "\n",
        "- Topic-Specific Patterns: Phrases related to technical discussions (e.g., \"comp graphics,\" \"looking for\") show strong positive correlations with comp.graphics but negative correlations with other categories like sci.space and talk.religion.misc. Conversely, phrases related to space and science (e.g., \"sci space,\" \"the moon,\" \"the space\") correlate strongly with sci.space but not with the other categories.\n",
        "\n",
        "- Repetition and Emphasis: The repetition of \"cheers kent\" with identical correlation values in the table underscores its robust association with specific topics, possibly indicating a significant presence or emphasis within those discussions.\n",
        "\n",
        "- It is surprising to see that \"the fbi\" had a strong correlation for talk.religion.misc."
      ]
    },
    {
      "cell_type": "markdown",
      "metadata": {
        "id": "UNC3BCjUTyhb"
      },
      "source": [
        "### Question 5: Pre-processing for text\n",
        "---\n",
        "\n",
        "To improve generalization, it is common to try preprocessing text in various ways before splitting into words. For example, you could try transforming strings to lower case, replacing sequences of numbers with single tokens, removing various non-letter characters, and shortening long words.\n",
        "\n",
        "1. Produce a Logistic Regression model (with no preprocessing of text). **Note that you may need to override the \"default\" preprocessing with an identity function**. Evaluate and show its f1 score and size of the dictionary.\n",
        "1. Produce an improved Logistic Regression model by preprocessing the text. Evaluate and show its f1 score and size of the vocabulary.  Aim for an improvement in f1 score of 0.02. **Note: this is actually very hard**.\n",
        "1. How much did the improved model reduce the vocabulary size?\n",
        "\n",
        "Notes:\n",
        "* Things you can try: ** ???: Anything else we can suggest**\n",
        " - Look at default pre-processing done.\n",
        " - Removing stop words.\n",
        " - Experiment with different ways of getting rid of apostrophe's such as replacing them with spaces or with empty strings.\n",
        "  - Lower casing.\n",
        "  - Including both lowercase and original case versions of a word.\n",
        "  - nltk functions such as stemming.\n",
        "* Train on the \"transformed\" training data, the data after you applied pre-processing.\n",
        "* Evaluate on the transformed development data. Note that you never want to \"learn\" anything from the dev data.\n",
        "* You can use `CountVectorizer(preprocessor=...)` to preprocess strings with your own custom-defined function.\n",
        "* `CountVectorizer` default is to preprocess strings to lower case.\n",
        "* You can use `LogisticRegression(C=0.5, solver=\"liblinear\", multi_class=\"auto\")` to produce a logistic regression model.\n",
        "* You can use `metrics.f1_score(..., average=\"weighted\")` to compute f1 score.\n",
        "* If you're not already familiar with regular expressions for manipulating strings, see https://docs.python.org/2/library/re.html, and re.sub() in particular.\n",
        "* The order you apply pre-processing may produce different results.\n"
      ]
    },
    {
      "cell_type": "code",
      "source": [
        "def better_preprocessor(s):\n",
        "    # Convert text to lowercase\n",
        "    s = s.lower()\n",
        "    # Replace sequences of digits with a single token '0'\n",
        "    s = re.sub(r'\\d+', '0', s)\n",
        "    # Replace apostrophes with empty string\n",
        "    s = re.sub(r\"'\", \"\", s)\n",
        "    # Replace other punctuation with spaces\n",
        "    s = re.sub(r'[^\\w\\s]', ' ', s)\n",
        "    # Remove extra whitespace\n",
        "    s = re.sub(r'\\s+', ' ', s).strip()\n",
        "    # Shorten long words (more than 15 characters)\n",
        "    s = ' '.join([word[:15] if len(word) > 12 else word for word in s.split()])\n",
        "    return s\n",
        "\n",
        "def Q5():\n",
        "    ### STUDENT START ###\n",
        "\n",
        "    # No preprocessing of text\n",
        "    vectorizer = CountVectorizer(preprocessor=lambda x: x)\n",
        "    X_train = vectorizer.fit_transform(train_data)\n",
        "    X_dev = vectorizer.transform(dev_data)\n",
        "\n",
        "    lr = LogisticRegression(C=0.5, solver=\"liblinear\", multi_class=\"auto\")\n",
        "    lr.fit(X_train, train_labels)\n",
        "    pred = lr.predict(X_dev)\n",
        "    f1_no_preprocess = metrics.f1_score(dev_labels, pred, average=\"weighted\")\n",
        "    vocab_size_no_preprocess = len(vectorizer.get_feature_names_out())\n",
        "\n",
        "    print(f\"No Preprocessing - F1 Score: {f1_no_preprocess}, Vocabulary Size: {vocab_size_no_preprocess}\")\n",
        "\n",
        "    # Improved preprocessing of text\n",
        "    vectorizer_preprocessed = CountVectorizer(\n",
        "        preprocessor=better_preprocessor,\n",
        "        stop_words='english',\n",
        "        ngram_range=(1, 2),  # Include unigrams and bigrams\n",
        "        max_features=10000  # Limit vocabulary size\n",
        "    )\n",
        "    X_train_preprocessed = vectorizer_preprocessed.fit_transform(train_data)\n",
        "    X_dev_preprocessed = vectorizer_preprocessed.transform(dev_data)\n",
        "\n",
        "    lr_preprocessed = LogisticRegression(C=1.0, solver=\"liblinear\", multi_class=\"auto\", max_iter=200)\n",
        "    lr_preprocessed.fit(X_train_preprocessed, train_labels)\n",
        "    pred_preprocessed = lr_preprocessed.predict(X_dev_preprocessed)\n",
        "    f1_preprocessed = metrics.f1_score(dev_labels, pred_preprocessed, average=\"weighted\")\n",
        "    vocab_size_preprocessed = len(vectorizer_preprocessed.get_feature_names_out())\n",
        "\n",
        "    print(f\"With Preprocessing - F1 Score: {f1_preprocessed}, Vocabulary Size: {vocab_size_preprocessed}\")\n",
        "\n",
        "    # Reduction in vocabulary size\n",
        "    vocab_size_reduction = vocab_size_no_preprocess - vocab_size_preprocessed\n",
        "    vocab_size_reduction_percentage = (vocab_size_reduction / vocab_size_no_preprocess) * 100\n",
        "\n",
        "    print(f\"Reduction in Vocabulary Size: {vocab_size_reduction}\")\n",
        "\n",
        "    print(f\"Reduction in Vocabulary Size: {vocab_size_reduction} ({vocab_size_reduction_percentage:.2f}%)\")\n",
        "    print(f\"F1 Score Improvement: {f1_preprocessed - f1_no_preprocess:.4f}\")\n",
        "\n",
        "    ### STUDENT END ###\n",
        "\n",
        "Q5()"
      ],
      "metadata": {
        "colab": {
          "base_uri": "https://localhost:8080/"
        },
        "id": "i5OFVP6C3RD7",
        "outputId": "a028f84b-1a8b-4345-c9e0-3abd62e81a14"
      },
      "execution_count": 25,
      "outputs": [
        {
          "output_type": "stream",
          "name": "stdout",
          "text": [
            "No Preprocessing - F1 Score: 0.7069109185493502, Vocabulary Size: 33291\n",
            "With Preprocessing - F1 Score: 0.7216295723330312, Vocabulary Size: 10000\n",
            "Reduction in Vocabulary Size: 23291\n",
            "Reduction in Vocabulary Size: 23291 (69.96%)\n",
            "F1 Score Improvement: 0.0147\n"
          ]
        }
      ]
    },
    {
      "cell_type": "markdown",
      "metadata": {
        "id": "tLRc7vDBTyhb"
      },
      "source": [
        "### Question 6: L1 and L2 regularization\n",
        "---\n",
        "\n",
        "The idea of regularization is to avoid learning very large weights (which are likely to fit the training data, but not generalize well) by adding a penalty to the total size of the learned weights. Logistic regression seeks the set of weights that minimizes errors in the training data AND has a small total size. The default L2 regularization computes this size as the sum of the squared weights (as in Part 3 above). L1 regularization computes this size as the sum of the absolute values of the weights. Whereas L2 regularization makes all the weights relatively small, **L1 regularization drives many of the weights to 0, effectively removing unimportant features**. For this reason, we can use it as a way to do \"feature selection\".\n",
        "\n",
        "1. For several L1 regularization strengths ...\n",
        "  1. Produce a Logistic Regression model using the **L1** regularization strength.  Reduce the vocabulary to only those features that have at least one non-zero weight among the four categories.\n",
        "  1. Produce a new Logistic Regression model using the reduced vocabulary . For this new model, use an **L2** regularization strength of 0.5.  \n",
        "  1. Evaluate and show the L1 regularization strength, vocabulary size, and f1 score associated with the new model.\n",
        "1. Show a plot of f1 score vs. log vocabulary size.  Each point corresponds to a specific L1 regularization strength used to reduce the vocabulary.\n",
        "1. How does performance of the models based on reduced vocabularies compare to that of a model based on the full vocabulary?\n",
        "\n",
        "Notes:\n",
        "* No need to apply pre-processing from question 5.\n",
        "* Train on the transformed (i.e. CountVectorizer) training data.\n",
        "* Evaluate on the transformed development data (using the CountVectorizer instance you trained on the training data).\n",
        "* You can use `LogisticRegression(..., penalty=\"l1\")` to produce a logistic regression model using L1 regularization.\n",
        "* You can use `LogisticRegression(..., penalty=\"l2\")` to produce a logistic regression model using L2 regularization.\n",
        "* You can use `LogisticRegression(..., tol=0.015)` to produce a logistic regression model using relaxed gradient descent convergence criteria.  The gradient descent code that trains the logistic regression model sometimes has trouble converging with extreme settings of the C parameter. Relax the convergence criteria by setting tol=.015 (the default is .0001).\n",
        "* (solver=\"liblinear\" might be needed for it not to crash)"
      ]
    },
    {
      "cell_type": "code",
      "source": [
        "def Q6():\n",
        "\n",
        "    # Keep this random seed here to make comparison easier.\n",
        "    np.random.seed(0)\n",
        "\n",
        "    ### START ###\n",
        "\n",
        "    # Define the regularization strengths\n",
        "    c_values = [0.001, 0.01, 0.1, 1, 10, 100, 1000, 10000, 100000]\n",
        "\n",
        "    # Initialize empty lists to store\n",
        "\n",
        "    # Prepare to collect results for plotting\n",
        "    f1_scores = []\n",
        "    vocab_sizes = []\n",
        "\n",
        "    # Original vectorizer for full vocabulary\n",
        "    vectorizer = CountVectorizer()\n",
        "    X_train = vectorizer.fit_transform(train_data)\n",
        "    X_dev = vectorizer.transform(dev_data)\n",
        "    feature_names = vectorizer.get_feature_names_out()\n",
        "\n",
        "    for c in c_values:\n",
        "        # Step 1: Train a Logistic Regression model with L1 penalty\n",
        "        lr_l1 = LogisticRegression(C=c, penalty='l1', solver=\"liblinear\", tol=0.015)\n",
        "        lr_l1.fit(X_train, train_labels)\n",
        "\n",
        "        # Step 2: Analyze LR model's coefficients, find the tokens with non-zero weights, keep them\n",
        "        non_zero_indices = np.where(np.sum(np.abs(lr_l1.coef_), axis=0) != 0)[0]\n",
        "\n",
        "        if len(non_zero_indices) == 0:\n",
        "            # Skip this C value if no features are selected\n",
        "            continue\n",
        "\n",
        "        # Step 3: Build a new vocabulary made up of only the non-zero weighted features\n",
        "        new_vocab = {feature_names[i]: idx for idx, i in enumerate(non_zero_indices)}\n",
        "\n",
        "        # Step 4: Transform data with a new CountVectorizer, pass new vocab in\n",
        "        vectorizer_reduced = CountVectorizer(vocabulary=new_vocab)\n",
        "        X_train_reduced = vectorizer_reduced.fit_transform(train_data)\n",
        "        X_dev_reduced = vectorizer_reduced.transform(dev_data)\n",
        "\n",
        "        # Step 5: Train a new LR (with L2 penalty) model with the transformed data using CountVectorizer from step 4\n",
        "        lr_l2 = LogisticRegression(C=0.5, penalty='l2', solver=\"liblinear\", tol=0.015)\n",
        "        lr_l2.fit(X_train_reduced, train_labels)\n",
        "\n",
        "        # Evaluate and show the L1 regularization strength, vocabulary size, and f1 score\n",
        "        pred_dev = lr_l2.predict(X_dev_reduced)\n",
        "        f1_score = metrics.f1_score(dev_labels, pred_dev, average=\"weighted\")\n",
        "        f1_scores.append(f1_score)\n",
        "        vocab_sizes.append(len(new_vocab))\n",
        "\n",
        "        print(f\"L1 Regularization Strength: {c}\")\n",
        "        print(f\"Reduced Vocabulary Size: {len(new_vocab)}\")\n",
        "        print(f\"F1 Score: {f1_score}\")\n",
        "\n",
        "    # Plot f1 score vs. log vocabulary size\n",
        "    plt.figure(figsize=(10, 6))\n",
        "    plt.plot(np.log10(vocab_sizes), f1_scores, marker='o', color='g')\n",
        "    plt.xlabel('Log Vocabulary Size')\n",
        "    plt.ylabel('F1 Score')\n",
        "    plt.title('F1 Score vs. Log Vocabulary Size')\n",
        "    plt.grid(True)\n",
        "    plt.show()\n",
        "\n",
        "    ### END ###\n",
        "\n",
        "Q6()"
      ],
      "metadata": {
        "colab": {
          "base_uri": "https://localhost:8080/",
          "height": 1000
        },
        "id": "s2P1Qu7q5TFf",
        "outputId": "17003343-e078-4fe8-a1b7-8d23cae12b1b"
      },
      "execution_count": 32,
      "outputs": [
        {
          "output_type": "stream",
          "name": "stdout",
          "text": [
            "L1 Regularization Strength: 0.001\n",
            "Reduced Vocabulary Size: 3\n",
            "F1 Score: 0.33356858531863487\n",
            "L1 Regularization Strength: 0.01\n",
            "Reduced Vocabulary Size: 17\n",
            "F1 Score: 0.4678284761184072\n",
            "L1 Regularization Strength: 0.1\n",
            "Reduced Vocabulary Size: 211\n",
            "F1 Score: 0.6895689219067682\n",
            "L1 Regularization Strength: 1\n",
            "Reduced Vocabulary Size: 1085\n",
            "F1 Score: 0.6816428054728599\n",
            "L1 Regularization Strength: 10\n",
            "Reduced Vocabulary Size: 3353\n",
            "F1 Score: 0.6975193940002022\n",
            "L1 Regularization Strength: 100\n",
            "Reduced Vocabulary Size: 10121\n",
            "F1 Score: 0.694396301711826\n",
            "L1 Regularization Strength: 1000\n",
            "Reduced Vocabulary Size: 25427\n",
            "F1 Score: 0.6986283029916152\n",
            "L1 Regularization Strength: 10000\n",
            "Reduced Vocabulary Size: 26857\n",
            "F1 Score: 0.6979690540705529\n",
            "L1 Regularization Strength: 100000\n",
            "Reduced Vocabulary Size: 26875\n",
            "F1 Score: 0.6934315713242358\n"
          ]
        },
        {
          "output_type": "display_data",
          "data": {
            "text/plain": [
              "<Figure size 1000x600 with 1 Axes>"
            ],
            "image/png": "[encoded data removed]"
          },
          "metadata": {}
        }
      ]
    },
    {
      "cell_type": "markdown",
      "metadata": {
        "id": "XbrmPrLaTyhc"
      },
      "source": [
        "ANSWER:\n",
        "\n",
        "- The F1 Score improves as the L1 regularization strength increases up to approximately 0.25. Beyond this point, the F1 Score begins to level. While reducing the vocabulary size can enhance the F1 Score, there is a balance between the size of the vocabulary and model performance. The model achieving the highest F1 Score of 0.706 uses a vocabulary of 25,371 words and an L1 regularization strength of 1000, indicating an optimal level of L1 penalty for feature reduction. Increasing the penalty beyond this optimal level does not further improve the model's performance significantly."
      ]
    },
    {
      "cell_type": "markdown",
      "metadata": {
        "id": "AQJQimS8Tyhd"
      },
      "source": [
        "### Question 7: TfIdf\n",
        "---\n",
        "As you may recall [tf-idf](https://en.wikipedia.org/wiki/Tf%E2%80%93idf) stands for *term frequency inverse document frequency* and is a way to assign a weight to each word or token signifying their importance for a document in a corpus (a collection of documents).\n",
        "\n",
        "Produce a Logistic Regression model based on data represented in tf-idf form, with L2 regularization strength of 100.  Evaluate and show the f1 score.  How is `TfidfVectorizer` different than `CountVectorizer`?\n",
        "\n",
        "1. How is `TfidfVectorizer` different than `CountVectorizer`?\n",
        "1. Show the 3 documents with highest R ratio, where ...\n",
        "  - $R\\,ratio = maximum\\,predicted\\,probability \\div predicted\\,probability\\,of\\,correct\\,label$\n",
        "1. Explain what the R ratio describes.\n",
        "1. What kinds of mistakes is the model making? Suggest a way to address one particular issue that you see.\n",
        "\n",
        "Note:\n",
        "* Train on the transformed training data.\n",
        "* Evaluate on the transformed development data.\n",
        "* You can use `TfidfVectorizer` and its `.fit_transform` method to transform data to tf-idf form.\n",
        "* You can use `LogisticRegression(C=100, solver=\"liblinear\", multi_class=\"auto\")` to produce a logistic regression model.\n",
        "* You can use `LogisticRegression`'s `.predict_proba` method to access predicted probabilities."
      ]
    },
    {
      "cell_type": "code",
      "metadata": {
        "id": "Llsrh11LTyhd",
        "colab": {
          "base_uri": "https://localhost:8080/",
          "height": 1000
        },
        "outputId": "77250401-1767-4043-eaf9-4422dd6b10f0"
      },
      "source": [
        "def Q7():\n",
        "\n",
        "    ### STUDENT START ###\n",
        "\n",
        "    # Step 1: Transform the training data into tf-idf form\n",
        "    vectorizer = TfidfVectorizer()\n",
        "    X_train_tfidf = vectorizer.fit_transform(train_data)\n",
        "    X_dev_tfidf = vectorizer.transform(dev_data)\n",
        "\n",
        "    # Step 2: Train a Logistic Regression model with L2 regularization strength of 100\n",
        "    lr = LogisticRegression(C=100, solver=\"liblinear\", multi_class=\"auto\")\n",
        "    lr.fit(X_train_tfidf, train_labels)\n",
        "\n",
        "    # Step 3: Evaluate the model and show the f1 score\n",
        "    dev_predictions = lr.predict(X_dev_tfidf)\n",
        "    f1_score = metrics.f1_score(dev_labels, dev_predictions, average=\"weighted\")\n",
        "    print(f\"F1 Score: {f1_score}\")\n",
        "\n",
        "    # Step 4: Compute and show 3 documents with the highest R ratio\n",
        "    dev_probabilities = lr.predict_proba(X_dev_tfidf)\n",
        "    max_prob = np.max(dev_probabilities, axis=1)\n",
        "    correct_prob = dev_probabilities[np.arange(len(dev_labels)), dev_labels]\n",
        "    R_ratio = max_prob / correct_prob\n",
        "    top_3_indices = np.argsort(R_ratio)[-3:]\n",
        "\n",
        "    for index in top_3_indices:\n",
        "        print(f\"Document {index}:\")\n",
        "        print(f\"R ratio: {R_ratio[index]}\")\n",
        "        print(f\"Text: {dev_data[index]}\")\n",
        "        print()\n",
        "\n",
        "    # Plot R ratios to analyze further [optional]\n",
        "    plt.figure(figsize=(10, 6))\n",
        "    plt.plot(R_ratio, 'bo', color='g')\n",
        "    plt.xlabel('Document Index')\n",
        "    plt.ylabel('R ratio')\n",
        "    plt.title('R ratio of Development Set Predictions')\n",
        "    plt.grid(True)\n",
        "    plt.show()\n",
        "\n",
        "    ### STUDENT END ###\n",
        "\n",
        "Q7()"
      ],
      "execution_count": 33,
      "outputs": [
        {
          "output_type": "stream",
          "name": "stdout",
          "text": [
            "F1 Score: 0.7597662427853104\n",
            "Document 607:\n",
            "R ratio: 287.3073187500546\n",
            "Text: \n",
            "The 24 children were, of course, killed by a lone gunman in a second story\n",
            "window, who fired eight bullets in the space of two seconds...\n",
            "\n",
            "\n",
            "Document 665:\n",
            "R ratio: 325.00379098431364\n",
            "Text: Can anyone provide me a ftp site where I can obtain a online version\n",
            "of the Book of Mormon. Please email the internet address if possible.\n",
            "\n",
            "Document 215:\n",
            "R ratio: 929.3567160108051\n",
            "Text: I am pleased to announce that a *revised version* of _The Easy-to-Read Book\n",
            "of Mormon_ (former title: _Mormon's Book_) by Lynn Matthews Anderson is now\n",
            "available through anonymous ftp (see information below). In addition to the\n",
            "change in title, the revised ETR BOM has been shortened by several pages\n",
            "(eliminating many extraneous \"that's\" and \"of's\"), and many (minor) errors\n",
            "have been corrected. This release includes a simplified Joseph Smith Story,\n",
            "testimonies of the three and eight witnesses, and a \"Words-to-Know\"\n",
            "glossary.\n",
            "\n",
            "As with the previous announcement, readers are reminded that this is a\n",
            "not-for-profit endeavor. This is a copyrighted work, but people are welcome\n",
            "to make *verbatim* copies for personal use. People can recuperate the\n",
            "actual costs of printing (paper, copy center charges), but may not charge\n",
            "anything for their time in making copies, or in any way realize a profit\n",
            "from the use of this book. See the permissions notice in the book itself\n",
            "for the precise terms.\n",
            "\n",
            "Negotiations are currently underway with a Mormon publisher vis-a-vis the\n",
            "printing and distribution of bound books. (Sorry, I'm out of the wire-bound\n",
            "\"first editions.\") I will make another announcement about the availability\n",
            "of printed copies once everything has been worked out.\n",
            "\n",
            "FTP information: connect via anonymous ftp to carnot.itc.cmu.edu, then \"cd\n",
            "pub\" (you won't see anything at all until you do).\n",
            "\n",
            "\"The Easy-to-Read Book of Mormon\" is currently available in postscript and\n",
            "RTF (rich text format). (ASCII, LaTeX, and other versions can be made\n",
            "available; contact dba@andrew.cmu.edu for details.) You should be able to\n",
            "print the postscript file on any postscript printer (such as an Apple\n",
            "Laserwriter); let dba know if you have any difficulties. (The postscript in\n",
            "the last release had problems on some printers; this time it should work\n",
            "better.) RTF is a standard document interchange format that can be read in\n",
            "by a number of word processors, including Microsoft Word for both the\n",
            "Macintosh and Windows. If you don't have a postscript printer, you may be\n",
            "able to use the RTF file to print out a copy of the book.\n",
            "\n",
            "-r--r--r--  1 dba                   1984742 Apr 27 13:12 etrbom.ps\n",
            "-r--r--r--  1 dba                   1209071 Apr 27 13:13 etrbom.rtf\n",
            "\n",
            "For more information about how this project came about, please refer to my\n",
            "article in the current issue of _Sunstone_, entitled \"Delighting in\n",
            "Plainness: Issues Surrounding a Simple Modern English Book of Mormon.\"\n",
            "\n",
            "Send all inquiries and comments to:\n",
            "\n",
            "    Lynn Matthews Anderson\n",
            "    5806 Hampton Street\n",
            "    Pittsburgh, PA 15206\n",
            "\n"
          ]
        },
        {
          "output_type": "stream",
          "name": "stderr",
          "text": [
            "<ipython-input-33-855a5f863a6f>:34: UserWarning: color is redundantly defined by the 'color' keyword argument and the fmt string \"bo\" (-> color='b'). The keyword argument will take precedence.\n",
            "  plt.plot(R_ratio, 'bo', color='g')\n"
          ]
        },
        {
          "output_type": "display_data",
          "data": {
            "text/plain": [
              "<Figure size 1000x600 with 1 Axes>"
            ],
            "image/png": "[encoded data removed]"
          },
          "metadata": {}
        }
      ]
    },
    {
      "cell_type": "markdown",
      "metadata": {
        "id": "w7SnJ7mTTyhe"
      },
      "source": [
        "ANSWER:\n",
        "\n",
        "- Compare TfidfVectorizer with CountVectorizer: TfidfVectorizer calculates term frequency-inverse document frequency for each term, while CountVectorizer counts the number of times each term appears in the document.\n",
        "\n",
        "- R ratio: describes the confidence of the most probable class relative to the confidence of the correct class. High R ratios indicate that the model is very confident in a prediction that is likely incorrect, a potential misclassification or uncertainty.\n",
        "\n",
        "- Mistakes is the model making: Misclassifies religious texts, particularly Mormon-related content. Struggles with distinguishing between words that are the main topic of the document, and those that can be found in references for example. Potential solution: Incorporate domain-specific features or use topic modeling techniques to better capture contextual information and improve classification accuracy for religious and similar content categories."
      ]
    },
    {
      "cell_type": "markdown",
      "metadata": {
        "id": "Smtoa6tHTyhf"
      },
      "source": [
        "### Question 8 EXTRA CREDIT:\n",
        "---\n",
        "Produce a Logistic Regression model to implement your suggestion from Part 7."
      ]
    }
  ]
}
